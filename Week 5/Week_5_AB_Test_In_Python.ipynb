{
 "cells": [
  {
   "cell_type": "markdown",
   "metadata": {},
   "source": [
    "# Week 5 - A/B Test with Python"
   ]
  },
  {
   "cell_type": "markdown",
   "metadata": {},
   "source": [
    "This is the companion Jupyter notebook for Week 5 - A/B Test with Python. In this notebook, we: \n",
    "- Retrieve data from the Google Analytics API  \n",
    "- Perform power analysis to recommend an appropriate sample size  \n",
    "- Conduct a Student’s t-test to evaluate our hypothesis  \n",
    "- Conduct a Welch’s t-test to evaluate our hypothesis  \n",
    "- Compare the performance and assumptions of the two t-tests  "
   ]
  },
  {
   "cell_type": "markdown",
   "metadata": {},
   "source": [
    "# 1. Import Packages\n",
    "Other than the statistical package of Pingouin, we will introduce a new package today. Google Analytics Data API. Google has developed the package of `google.analytics.data` to allow easy retrieval of historical reports.\n",
    "This is the documentation of this package: https://developers.google.com/analytics/devguides/reporting/data/v1/rest"
   ]
  },
  {
   "cell_type": "code",
   "execution_count": null,
   "metadata": {},
   "outputs": [
    {
     "name": "stdout",
     "output_type": "stream",
     "text": [
      "Collecting google.analytics.data\n",
      "  Downloading google_analytics_data-0.18.18-py3-none-any.whl.metadata (9.4 kB)\n",
      "Collecting google-api-core!=2.0.*,!=2.1.*,!=2.10.*,!=2.2.*,!=2.3.*,!=2.4.*,!=2.5.*,!=2.6.*,!=2.7.*,!=2.8.*,!=2.9.*,<3.0.0,>=1.34.1 (from google-api-core[grpc]!=2.0.*,!=2.1.*,!=2.10.*,!=2.2.*,!=2.3.*,!=2.4.*,!=2.5.*,!=2.6.*,!=2.7.*,!=2.8.*,!=2.9.*,<3.0.0,>=1.34.1->google.analytics.data)\n",
      "  Downloading google_api_core-2.24.2-py3-none-any.whl.metadata (3.0 kB)\n",
      "Collecting google-auth!=2.24.0,!=2.25.0,<3.0.0,>=2.14.1 (from google.analytics.data)\n",
      "  Downloading google_auth-2.38.0-py2.py3-none-any.whl.metadata (4.8 kB)\n",
      "Collecting proto-plus<2.0.0,>=1.22.3 (from google.analytics.data)\n",
      "  Downloading proto_plus-1.26.1-py3-none-any.whl.metadata (2.2 kB)\n",
      "Collecting protobuf!=4.21.0,!=4.21.1,!=4.21.2,!=4.21.3,!=4.21.4,!=4.21.5,<7.0.0,>=3.20.2 (from google.analytics.data)\n",
      "  Downloading protobuf-6.30.2-cp310-abi3-win_amd64.whl.metadata (593 bytes)\n",
      "Collecting googleapis-common-protos<2.0.0,>=1.56.2 (from google-api-core!=2.0.*,!=2.1.*,!=2.10.*,!=2.2.*,!=2.3.*,!=2.4.*,!=2.5.*,!=2.6.*,!=2.7.*,!=2.8.*,!=2.9.*,<3.0.0,>=1.34.1->google-api-core[grpc]!=2.0.*,!=2.1.*,!=2.10.*,!=2.2.*,!=2.3.*,!=2.4.*,!=2.5.*,!=2.6.*,!=2.7.*,!=2.8.*,!=2.9.*,<3.0.0,>=1.34.1->google.analytics.data)\n",
      "  Downloading googleapis_common_protos-1.69.2-py3-none-any.whl.metadata (9.3 kB)\n",
      "Requirement already satisfied: requests<3.0.0,>=2.18.0 in c:\\users\\49280549\\appdata\\local\\programs\\python\\python312\\lib\\site-packages (from google-api-core!=2.0.*,!=2.1.*,!=2.10.*,!=2.2.*,!=2.3.*,!=2.4.*,!=2.5.*,!=2.6.*,!=2.7.*,!=2.8.*,!=2.9.*,<3.0.0,>=1.34.1->google-api-core[grpc]!=2.0.*,!=2.1.*,!=2.10.*,!=2.2.*,!=2.3.*,!=2.4.*,!=2.5.*,!=2.6.*,!=2.7.*,!=2.8.*,!=2.9.*,<3.0.0,>=1.34.1->google.analytics.data) (2.32.3)\n",
      "Collecting grpcio<2.0dev,>=1.33.2 (from google-api-core[grpc]!=2.0.*,!=2.1.*,!=2.10.*,!=2.2.*,!=2.3.*,!=2.4.*,!=2.5.*,!=2.6.*,!=2.7.*,!=2.8.*,!=2.9.*,<3.0.0,>=1.34.1->google.analytics.data)\n",
      "  Downloading grpcio-1.71.0-cp312-cp312-win_amd64.whl.metadata (4.0 kB)\n",
      "Collecting grpcio-status<2.0.dev0,>=1.33.2 (from google-api-core[grpc]!=2.0.*,!=2.1.*,!=2.10.*,!=2.2.*,!=2.3.*,!=2.4.*,!=2.5.*,!=2.6.*,!=2.7.*,!=2.8.*,!=2.9.*,<3.0.0,>=1.34.1->google.analytics.data)\n",
      "  Downloading grpcio_status-1.71.0-py3-none-any.whl.metadata (1.1 kB)\n",
      "Collecting cachetools<6.0,>=2.0.0 (from google-auth!=2.24.0,!=2.25.0,<3.0.0,>=2.14.1->google.analytics.data)\n",
      "  Downloading cachetools-5.5.2-py3-none-any.whl.metadata (5.4 kB)\n",
      "Collecting pyasn1-modules>=0.2.1 (from google-auth!=2.24.0,!=2.25.0,<3.0.0,>=2.14.1->google.analytics.data)\n",
      "  Downloading pyasn1_modules-0.4.2-py3-none-any.whl.metadata (3.5 kB)\n",
      "Collecting rsa<5,>=3.1.4 (from google-auth!=2.24.0,!=2.25.0,<3.0.0,>=2.14.1->google.analytics.data)\n",
      "  Downloading rsa-4.9-py3-none-any.whl.metadata (4.2 kB)\n",
      "Collecting protobuf!=4.21.0,!=4.21.1,!=4.21.2,!=4.21.3,!=4.21.4,!=4.21.5,<7.0.0,>=3.20.2 (from google.analytics.data)\n",
      "  Downloading protobuf-5.29.4-cp310-abi3-win_amd64.whl.metadata (592 bytes)\n",
      "Collecting pyasn1<0.7.0,>=0.6.1 (from pyasn1-modules>=0.2.1->google-auth!=2.24.0,!=2.25.0,<3.0.0,>=2.14.1->google.analytics.data)\n",
      "  Downloading pyasn1-0.6.1-py3-none-any.whl.metadata (8.4 kB)\n",
      "Requirement already satisfied: charset-normalizer<4,>=2 in c:\\users\\49280549\\appdata\\local\\programs\\python\\python312\\lib\\site-packages (from requests<3.0.0,>=2.18.0->google-api-core!=2.0.*,!=2.1.*,!=2.10.*,!=2.2.*,!=2.3.*,!=2.4.*,!=2.5.*,!=2.6.*,!=2.7.*,!=2.8.*,!=2.9.*,<3.0.0,>=1.34.1->google-api-core[grpc]!=2.0.*,!=2.1.*,!=2.10.*,!=2.2.*,!=2.3.*,!=2.4.*,!=2.5.*,!=2.6.*,!=2.7.*,!=2.8.*,!=2.9.*,<3.0.0,>=1.34.1->google.analytics.data) (3.4.1)\n",
      "Requirement already satisfied: idna<4,>=2.5 in c:\\users\\49280549\\appdata\\local\\programs\\python\\python312\\lib\\site-packages (from requests<3.0.0,>=2.18.0->google-api-core!=2.0.*,!=2.1.*,!=2.10.*,!=2.2.*,!=2.3.*,!=2.4.*,!=2.5.*,!=2.6.*,!=2.7.*,!=2.8.*,!=2.9.*,<3.0.0,>=1.34.1->google-api-core[grpc]!=2.0.*,!=2.1.*,!=2.10.*,!=2.2.*,!=2.3.*,!=2.4.*,!=2.5.*,!=2.6.*,!=2.7.*,!=2.8.*,!=2.9.*,<3.0.0,>=1.34.1->google.analytics.data) (3.10)\n",
      "Requirement already satisfied: urllib3<3,>=1.21.1 in c:\\users\\49280549\\appdata\\local\\programs\\python\\python312\\lib\\site-packages (from requests<3.0.0,>=2.18.0->google-api-core!=2.0.*,!=2.1.*,!=2.10.*,!=2.2.*,!=2.3.*,!=2.4.*,!=2.5.*,!=2.6.*,!=2.7.*,!=2.8.*,!=2.9.*,<3.0.0,>=1.34.1->google-api-core[grpc]!=2.0.*,!=2.1.*,!=2.10.*,!=2.2.*,!=2.3.*,!=2.4.*,!=2.5.*,!=2.6.*,!=2.7.*,!=2.8.*,!=2.9.*,<3.0.0,>=1.34.1->google.analytics.data) (2.3.0)\n",
      "Requirement already satisfied: certifi>=2017.4.17 in c:\\users\\49280549\\appdata\\local\\programs\\python\\python312\\lib\\site-packages (from requests<3.0.0,>=2.18.0->google-api-core!=2.0.*,!=2.1.*,!=2.10.*,!=2.2.*,!=2.3.*,!=2.4.*,!=2.5.*,!=2.6.*,!=2.7.*,!=2.8.*,!=2.9.*,<3.0.0,>=1.34.1->google-api-core[grpc]!=2.0.*,!=2.1.*,!=2.10.*,!=2.2.*,!=2.3.*,!=2.4.*,!=2.5.*,!=2.6.*,!=2.7.*,!=2.8.*,!=2.9.*,<3.0.0,>=1.34.1->google.analytics.data) (2025.1.31)\n",
      "Downloading google_analytics_data-0.18.18-py3-none-any.whl (188 kB)\n",
      "Downloading google_api_core-2.24.2-py3-none-any.whl (160 kB)\n",
      "Downloading google_auth-2.38.0-py2.py3-none-any.whl (210 kB)\n",
      "Downloading proto_plus-1.26.1-py3-none-any.whl (50 kB)\n",
      "Downloading cachetools-5.5.2-py3-none-any.whl (10 kB)\n",
      "Downloading googleapis_common_protos-1.69.2-py3-none-any.whl (293 kB)\n",
      "Downloading grpcio-1.71.0-cp312-cp312-win_amd64.whl (4.3 MB)\n",
      "   ---------------------------------------- 0.0/4.3 MB ? eta -:--:--\n",
      "   ---------------------------------------- 4.3/4.3 MB 85.3 MB/s eta 0:00:00\n",
      "Downloading grpcio_status-1.71.0-py3-none-any.whl (14 kB)\n",
      "Downloading protobuf-5.29.4-cp310-abi3-win_amd64.whl (434 kB)\n",
      "Downloading pyasn1_modules-0.4.2-py3-none-any.whl (181 kB)\n",
      "Downloading rsa-4.9-py3-none-any.whl (34 kB)\n",
      "Downloading pyasn1-0.6.1-py3-none-any.whl (83 kB)\n",
      "Installing collected packages: pyasn1, protobuf, grpcio, cachetools, rsa, pyasn1-modules, proto-plus, googleapis-common-protos, grpcio-status, google-auth, google-api-core, google.analytics.data\n",
      "Successfully installed cachetools-5.5.2 google-api-core-2.24.2 google-auth-2.38.0 google.analytics.data-0.18.18 googleapis-common-protos-1.69.2 grpcio-1.71.0 grpcio-status-1.71.0 proto-plus-1.26.1 protobuf-5.29.4 pyasn1-0.6.1 pyasn1-modules-0.4.2 rsa-4.9\n"
     ]
    },
    {
     "name": "stderr",
     "output_type": "stream",
     "text": [
      "\n",
      "[notice] A new release of pip is available: 24.2 -> 25.0.1\n",
      "[notice] To update, run: python.exe -m pip install --upgrade pip\n"
     ]
    }
   ],
   "source": [
    "!pip3 install google.analytics.data\n",
    "!pip3 install pingouin"
   ]
  },
  {
   "cell_type": "markdown",
   "metadata": {},
   "source": [
    "Import the packages needed."
   ]
  },
  {
   "cell_type": "code",
   "execution_count": 23,
   "metadata": {},
   "outputs": [],
   "source": [
    "from google.analytics.data_v1beta import BetaAnalyticsDataClient\n",
    "from google.analytics.data_v1beta.types import (\n",
    "    DateRange,\n",
    "    Dimension,\n",
    "    Metric,\n",
    "    RunReportRequest,\n",
    "    Filter,\n",
    "    FilterExpression,\n",
    ")\n",
    "import os\n",
    "import pandas as pd\n",
    "import json\n",
    "import scipy.stats as st \n",
    "import numpy as np"
   ]
  },
  {
   "cell_type": "markdown",
   "metadata": {},
   "source": [
    "# 2. An End-to-end A/B Test Example"
   ]
  },
  {
   "cell_type": "markdown",
   "metadata": {},
   "source": [
    "Following the class notes, we will implement hypothesis testing for an experiment comparing the original website (control) to a variant in which the header bar color was changed (treatment)."
   ]
  },
  {
   "cell_type": "markdown",
   "metadata": {},
   "source": [
    "## 2.0 Sample Size"
   ]
  },
  {
   "cell_type": "markdown",
   "metadata": {},
   "source": [
    "Before running an A/B test, it's important to conduct a power analysis to estimate the required sample size. This ensures your experiment is capable of detecting a meaningful effect if one exists. The sample size depends on the following key inputs:\n",
    "\n",
    "- Baseline performance (e.g., current conversion rate)\n",
    "- Expected variant performance (e.g., projected improvement)\n",
    "- Desired power (typically 0.8 or 80%)\n",
    "- Significance level (alpha) (commonly set at 0.05)\n",
    "\n",
    "When you're launching a new experiment, you often have limited information about how the variant will perform, so you'll need to make assumptions or use industry benchmarks. However, in a follow-up study—such as refining a previously tested feature—you can use prior results to make a more informed estimate of the expected performance, leading to a more accurate and efficient sample size calculation."
   ]
  },
  {
   "cell_type": "code",
   "execution_count": 56,
   "metadata": {},
   "outputs": [
    {
     "name": "stdout",
     "output_type": "stream",
     "text": [
      "Required sample size per group: 92\n"
     ]
    }
   ],
   "source": [
    "from statsmodels.stats.power import NormalIndPower\n",
    "from statsmodels.stats.proportion import proportion_effectsize\n",
    "\n",
    "# Inputs\n",
    "baseline_rate = 0.5\n",
    "variant_rate = 0.7\n",
    "effect_size = proportion_effectsize(baseline_rate, variant_rate)\n",
    "\n",
    "# Power analysis\n",
    "analysis = NormalIndPower()\n",
    "sample_size_per_group = analysis.solve_power(effect_size=effect_size, power=0.8, alpha=0.05, alternative='two-sided')\n",
    "\n",
    "print(f\"Required sample size per group: {int(sample_size_per_group)}\")\n"
   ]
  },
  {
   "cell_type": "markdown",
   "metadata": {},
   "source": [
    "Below is a function ```sample_run_report```. The parameter is the property id, and the dimensions, metrics, and date_ranges can be specified below."
   ]
  },
  {
   "cell_type": "markdown",
   "metadata": {},
   "source": [
    "Suppose we have run the A/B test. Now we need to retrieve data from Google Analytics to perform statistical analysis to test our hypothesis. Our hypothesis testing takes three steps:\n",
    "\n",
    "- Step 1: Get conversion sessions (A submit event has been detected in a session) at a date level.\n",
    "- Step 2: Get total sessions (total number of sessions) at a date level.\n",
    "- Step 3: Perform a left join to merge the two datasets and calcualte the ratio of submit.\n",
    "- Step 4: Get the ratio for treatment condition and control condition.\n",
    "- Step 5: Run the t-test and interpret the results.\n",
    "\n",
    "## 2.1 Conversion Report\n",
    "\n",
    "Google Analytics provides APIs for others to retrieve data in a flexible way. The flexible report generation is based on the definition of **dimensions** and **metrics**.\n",
    "More information about dimensions and metrics can be found [here](https://developers.google.com/analytics/devguides/reporting/data/v1/api-schema). More information about how to generate reports can be found [here](https://developers.google.com/analytics/devguides/reporting/data/v1/basics#python_3)."
   ]
  },
  {
   "cell_type": "code",
   "execution_count": 37,
   "metadata": {},
   "outputs": [],
   "source": [
    "def sample_run_report_conversion(property_id=\"424145747\"):\n",
    "    \"\"\"Runs a simple report on a Google Analytics 4 property.\"\"\"\n",
    "    #os.environ['GOOGLE_APPLICATION_CREDENTIALS'] = 'apt-port-251804-905e08b9e9e3.json'\n",
    "    os.environ['GOOGLE_APPLICATION_CREDENTIALS'] = 'bigquery-419120-14d56b3f70eb.json'\n",
    "    client = BetaAnalyticsDataClient()\n",
    "    request = RunReportRequest(\n",
    "        property=\"properties/{}\".format(property_id),\n",
    "        dimensions=[Dimension(name=\"campaignName\"),Dimension(name=\"eventName\"),Dimension(name=\"date\")], #Dimension(name=\"sessionCampaignName\"),\n",
    "        metrics=[Metric(name=\"sessions\")],\n",
    "        date_ranges=[DateRange(start_date=\"2025-01-01\", end_date=\"2025-04-07\")],\n",
    "         dimension_filter=FilterExpression(\n",
    "            filter=Filter(\n",
    "                field_name=\"campaignName\",\n",
    "                in_list_filter=Filter.InListFilter(\n",
    "                    values=[\n",
    "                        \"main\",\n",
    "                        \"experiment\"\n",
    "                    ]\n",
    "                ),\n",
    "            )\n",
    "        ),\n",
    "    )\n",
    "    response = client.run_report(request)\n",
    "    return response"
   ]
  },
  {
   "cell_type": "markdown",
   "metadata": {},
   "source": [
    "## 2.2 Session Report\n",
    "The report below shows all experimental sessions:"
   ]
  },
  {
   "cell_type": "code",
   "execution_count": 39,
   "metadata": {},
   "outputs": [],
   "source": [
    "def sample_run_report_session(property_id=\"424145747\"):\n",
    "    \"\"\"Runs a simple report on a Google Analytics 4 property.\"\"\"\n",
    "    os.environ['GOOGLE_APPLICATION_CREDENTIALS'] = 'bigquery-419120-14d56b3f70eb.json'\n",
    "    client = BetaAnalyticsDataClient()\n",
    "    request = RunReportRequest(\n",
    "        property=\"properties/{}\".format(property_id),\n",
    "        dimensions=[Dimension(name=\"customEvent:Branch\"),Dimension(name=\"date\")], #Dimension(name=\"sessionCampaignName\"),\n",
    "        metrics=[Metric(name=\"sessions\")],\n",
    "        date_ranges=[DateRange(start_date=\"2025-01-01\", end_date=\"2025-04-07\")],\n",
    "          dimension_filter=FilterExpression(\n",
    "            filter=Filter(\n",
    "                field_name=\"customEvent:Branch\",\n",
    "                in_list_filter=Filter.InListFilter(\n",
    "                    values=[\n",
    "                        \"main\",\n",
    "                        \"experiment\"\n",
    "                    ]\n",
    "                ),\n",
    "            )\n",
    "        ),\n",
    "    )\n",
    "    response = client.run_report(request)\n",
    "    return response"
   ]
  },
  {
   "cell_type": "markdown",
   "metadata": {},
   "source": [
    "## 2.3 Data Conversion\n",
    "The default output is json, which we can transform into a dataframe using the following function **response_to_df**."
   ]
  },
  {
   "cell_type": "code",
   "execution_count": 40,
   "metadata": {},
   "outputs": [],
   "source": [
    "def response_to_df(response):\n",
    "    columns = []\n",
    "    rows = []\n",
    "     \n",
    "    for col in response.dimension_headers:\n",
    "        columns.append(col.name)\n",
    "    for col in response.metric_headers:\n",
    "        columns.append(col.name)\n",
    "     \n",
    "    for row_data in response.rows:\n",
    "        row = []\n",
    "        for val in row_data.dimension_values:\n",
    "            row.append(val.value)\n",
    "        for val in row_data.metric_values:\n",
    "            row.append(val.value)\n",
    "        rows.append(row)\n",
    "    return pd.DataFrame(rows, columns=columns)\n"
   ]
  },
  {
   "cell_type": "markdown",
   "metadata": {},
   "source": [
    "## 2.4 Data Collection Pipeline\n",
    "\n",
    "### 2.4.1 Step 1: Conversion Data\n",
    "The code below shows the main pipeline of step 1."
   ]
  },
  {
   "cell_type": "code",
   "execution_count": 41,
   "metadata": {},
   "outputs": [
    {
     "data": {
      "text/html": [
       "<div>\n",
       "<style scoped>\n",
       "    .dataframe tbody tr th:only-of-type {\n",
       "        vertical-align: middle;\n",
       "    }\n",
       "\n",
       "    .dataframe tbody tr th {\n",
       "        vertical-align: top;\n",
       "    }\n",
       "\n",
       "    .dataframe thead th {\n",
       "        text-align: right;\n",
       "    }\n",
       "</style>\n",
       "<table border=\"1\" class=\"dataframe\">\n",
       "  <thead>\n",
       "    <tr style=\"text-align: right;\">\n",
       "      <th></th>\n",
       "      <th>customEvent:Branch</th>\n",
       "      <th>eventName</th>\n",
       "      <th>date</th>\n",
       "      <th>sessions</th>\n",
       "    </tr>\n",
       "  </thead>\n",
       "  <tbody>\n",
       "    <tr>\n",
       "      <th>2</th>\n",
       "      <td>experiment</td>\n",
       "      <td>submit</td>\n",
       "      <td>20250407</td>\n",
       "      <td>5</td>\n",
       "    </tr>\n",
       "    <tr>\n",
       "      <th>3</th>\n",
       "      <td>main</td>\n",
       "      <td>submit</td>\n",
       "      <td>20250320</td>\n",
       "      <td>5</td>\n",
       "    </tr>\n",
       "    <tr>\n",
       "      <th>5</th>\n",
       "      <td>main</td>\n",
       "      <td>submit</td>\n",
       "      <td>20250407</td>\n",
       "      <td>4</td>\n",
       "    </tr>\n",
       "    <tr>\n",
       "      <th>8</th>\n",
       "      <td>main</td>\n",
       "      <td>submit</td>\n",
       "      <td>20250228</td>\n",
       "      <td>3</td>\n",
       "    </tr>\n",
       "    <tr>\n",
       "      <th>9</th>\n",
       "      <td>main</td>\n",
       "      <td>submit</td>\n",
       "      <td>20250301</td>\n",
       "      <td>3</td>\n",
       "    </tr>\n",
       "    <tr>\n",
       "      <th>14</th>\n",
       "      <td>main</td>\n",
       "      <td>submit</td>\n",
       "      <td>20250227</td>\n",
       "      <td>2</td>\n",
       "    </tr>\n",
       "    <tr>\n",
       "      <th>17</th>\n",
       "      <td>experiment</td>\n",
       "      <td>submit</td>\n",
       "      <td>20250307</td>\n",
       "      <td>1</td>\n",
       "    </tr>\n",
       "    <tr>\n",
       "      <th>18</th>\n",
       "      <td>experiment</td>\n",
       "      <td>submit</td>\n",
       "      <td>20250310</td>\n",
       "      <td>1</td>\n",
       "    </tr>\n",
       "    <tr>\n",
       "      <th>19</th>\n",
       "      <td>experiment</td>\n",
       "      <td>submit</td>\n",
       "      <td>20250311</td>\n",
       "      <td>1</td>\n",
       "    </tr>\n",
       "    <tr>\n",
       "      <th>26</th>\n",
       "      <td>main</td>\n",
       "      <td>submit</td>\n",
       "      <td>20250303</td>\n",
       "      <td>1</td>\n",
       "    </tr>\n",
       "    <tr>\n",
       "      <th>27</th>\n",
       "      <td>main</td>\n",
       "      <td>submit</td>\n",
       "      <td>20250325</td>\n",
       "      <td>1</td>\n",
       "    </tr>\n",
       "  </tbody>\n",
       "</table>\n",
       "</div>"
      ],
      "text/plain": [
       "   customEvent:Branch eventName      date sessions\n",
       "2          experiment    submit  20250407        5\n",
       "3                main    submit  20250320        5\n",
       "5                main    submit  20250407        4\n",
       "8                main    submit  20250228        3\n",
       "9                main    submit  20250301        3\n",
       "14               main    submit  20250227        2\n",
       "17         experiment    submit  20250307        1\n",
       "18         experiment    submit  20250310        1\n",
       "19         experiment    submit  20250311        1\n",
       "26               main    submit  20250303        1\n",
       "27               main    submit  20250325        1"
      ]
     },
     "execution_count": 41,
     "metadata": {},
     "output_type": "execute_result"
    }
   ],
   "source": [
    "response=sample_run_report_conversion(property_id=\"424145747\")\n",
    "df1=response_to_df(response)\n",
    "# change the column name from  campaignName to customEvent:Branch\n",
    "df1.rename(columns={'campaignName': 'customEvent:Branch'}, inplace=True)\n",
    "# Only look at submit\n",
    "df1 = df1[df1['eventName'] == 'submit']\n",
    "df1"
   ]
  },
  {
   "cell_type": "markdown",
   "metadata": {},
   "source": [
    "### 2.4.2 Step 2: Session Data\n",
    "In Step 2, we retrieve session numbers at each given day for control and treatment."
   ]
  },
  {
   "cell_type": "code",
   "execution_count": 42,
   "metadata": {},
   "outputs": [
    {
     "name": "stdout",
     "output_type": "stream",
     "text": [
      "   customEvent:Branch      date sessions\n",
      "0                main  20250313       36\n",
      "1                main  20250320       19\n",
      "2                main  20250312       16\n",
      "3                main  20250228        9\n",
      "4                main  20250319        9\n",
      "5                main  20250316        8\n",
      "6                main  20250317        8\n",
      "7          experiment  20250407        6\n",
      "8                main  20250321        6\n",
      "9                main  20250407        6\n",
      "10               main  20250227        5\n",
      "11               main  20250301        4\n",
      "12               main  20250326        4\n",
      "13               main  20250303        3\n",
      "14               main  20250314        3\n",
      "15               main  20250318        3\n",
      "16               main  20250327        3\n",
      "17               main  20250306        2\n",
      "18               main  20250311        2\n",
      "19               main  20250315        2\n",
      "20               main  20250322        2\n",
      "21               main  20250324        2\n",
      "22               main  20250325        2\n",
      "23               main  20250330        2\n",
      "24         experiment  20250304        1\n",
      "25         experiment  20250307        1\n",
      "26         experiment  20250308        1\n",
      "27         experiment  20250310        1\n",
      "28         experiment  20250311        1\n",
      "29         experiment  20250312        1\n",
      "30         experiment  20250325        1\n",
      "31               main  20250302        1\n",
      "32               main  20250310        1\n",
      "33               main  20250328        1\n",
      "34               main  20250331        1\n",
      "35               main  20250401        1\n",
      "36               main  20250402        1\n"
     ]
    }
   ],
   "source": [
    "response=sample_run_report_session(property_id=\"424145747\")\n",
    "df2=response_to_df(response)\n",
    "print(df2)"
   ]
  },
  {
   "cell_type": "markdown",
   "metadata": {},
   "source": [
    "## 2.5. Hypothesis Testing "
   ]
  },
  {
   "attachments": {
    "left-outer-join-operation.png": {
     "image/png": "[encoded data removed]"
    }
   },
   "cell_type": "markdown",
   "metadata": {},
   "source": [
    "### 2.5.1 Step 3: Merge Data\n",
    "To combine the two datasets, we used a merge function:\n",
    "\n",
    "![left-outer-join-operation.png](attachment:left-outer-join-operation.png)"
   ]
  },
  {
   "cell_type": "code",
   "execution_count": null,
   "metadata": {},
   "outputs": [],
   "source": [
    "\n",
    "\n",
    "# the merge function can combine two dataframes based on keywords. A left \n",
    "merged_df = pd.merge(df2, df1, on=['date', 'customEvent:Branch'], how='left')\n",
    "\n",
    "merged_df.fillna(0, inplace=True)\n"
   ]
  },
  {
   "cell_type": "markdown",
   "metadata": {},
   "source": [
    "### 2.5.2 Step 4: Calculate the Ratio"
   ]
  },
  {
   "cell_type": "code",
   "execution_count": null,
   "metadata": {},
   "outputs": [],
   "source": [
    "# calculate the ratio between submission sessions and all sessions per day.\n",
    "merged_df['submit_session_ratio_per_day']=merged_df['sessions_y'].astype(int)/merged_df['sessions_x'].astype(int)\n",
    "\n",
    "# extract data for control\n",
    "control = merged_df[merged_df['customEvent:Branch'] == 'main']['submit_session_ratio_per_day']\n",
    "# extract data for treatment \n",
    "treatment =merged_df[merged_df['customEvent:Branch'] == 'experiment']['submit_session_ratio_per_day']"
   ]
  },
  {
   "cell_type": "markdown",
   "metadata": {},
   "source": [
    "### Step 5: Hypothesis Testing\n",
    "\n",
    "An independent t-test is used to compare the means of the same group at two different times or under two different conditions. To run statistical tests, we can use the package of ```scipy``` or ```pingouin```.  The independent samples-test comes in two different forms, Student’s and Welch’s. Student's T-test relies on much more restrictive assumptions than the Welch's T-test. Remember that the goal is to determine whether the treatment and control data are drawn from populations with the same mean (the null hypothesis) or different means (the alternative hypothesis). When I say \"independent\" samples, what I really mean here is that there’s no special relationship between observations in the two samples because a user can either be in treatment or control."
   ]
  },
  {
   "cell_type": "markdown",
   "metadata": {},
   "source": [
    "### 2.5.3 T-Test Assuming Equal Variance\n",
    "This is a test for the null hypothesis that 2 independent samples have identical average (expected) values. This test assumes that the populations have identical variances by default.\n",
    "\n"
   ]
  },
  {
   "cell_type": "code",
   "execution_count": 57,
   "metadata": {},
   "outputs": [
    {
     "data": {
      "text/html": [
       "<div>\n",
       "<style scoped>\n",
       "    .dataframe tbody tr th:only-of-type {\n",
       "        vertical-align: middle;\n",
       "    }\n",
       "\n",
       "    .dataframe tbody tr th {\n",
       "        vertical-align: top;\n",
       "    }\n",
       "\n",
       "    .dataframe thead th {\n",
       "        text-align: right;\n",
       "    }\n",
       "</style>\n",
       "<table border=\"1\" class=\"dataframe\">\n",
       "  <thead>\n",
       "    <tr style=\"text-align: right;\">\n",
       "      <th></th>\n",
       "      <th>T</th>\n",
       "      <th>dof</th>\n",
       "      <th>alternative</th>\n",
       "      <th>p-val</th>\n",
       "      <th>CI95%</th>\n",
       "      <th>cohen-d</th>\n",
       "      <th>BF10</th>\n",
       "      <th>power</th>\n",
       "    </tr>\n",
       "  </thead>\n",
       "  <tbody>\n",
       "    <tr>\n",
       "      <th>T-test</th>\n",
       "      <td>3.03983</td>\n",
       "      <td>35</td>\n",
       "      <td>two-sided</td>\n",
       "      <td>0.00446</td>\n",
       "      <td>[0.12, 0.61]</td>\n",
       "      <td>1.213965</td>\n",
       "      <td>9.073</td>\n",
       "      <td>0.840252</td>\n",
       "    </tr>\n",
       "  </tbody>\n",
       "</table>\n",
       "</div>"
      ],
      "text/plain": [
       "              T  dof alternative    p-val         CI95%   cohen-d   BF10  \\\n",
       "T-test  3.03983   35   two-sided  0.00446  [0.12, 0.61]  1.213965  9.073   \n",
       "\n",
       "           power  \n",
       "T-test  0.840252  "
      ]
     },
     "execution_count": 57,
     "metadata": {},
     "output_type": "execute_result"
    }
   ],
   "source": [
    "from pingouin import ttest\n",
    "\n",
    "ttest(treatment,control,correction=False)"
   ]
  },
  {
   "cell_type": "markdown",
   "metadata": {},
   "source": [
    "**More comprehensive results**"
   ]
  },
  {
   "cell_type": "code",
   "execution_count": 45,
   "metadata": {},
   "outputs": [],
   "source": [
    "import pandas as pd\n",
    "import pingouin as pg\n",
    "import matplotlib.pyplot as plt\n",
    "results=[]\n",
    " # Means\n",
    "mean_treatment = treatment.mean()\n",
    "mean_control = control.mean()\n",
    "\n",
    "# Absolute and percentage difference\n",
    "abs_diff = mean_treatment - mean_control\n",
    "pct_diff = (abs_diff / mean_control) * 100\n",
    "\n",
    "# T-test using pingouin\n",
    "ttest = pg.ttest(treatment, control, correction=False)\n",
    "ci_low, ci_high = ttest['CI95%'].values[0]\n",
    "\n",
    "results.append({\n",
    "    'Test': \"Student's T-Test\",\n",
    "    'Mean Treatment': mean_treatment,\n",
    "    'Mean Control': mean_control,\n",
    "    'Abs Diff': abs_diff,\n",
    "    'Pct Diff (%)': pct_diff,\n",
    "    'p-value': ttest['p-val'].values[0],\n",
    "    'CI Lower': ci_low,\n",
    "    'CI Upper': ci_high\n",
    "})\n"
   ]
  },
  {
   "cell_type": "markdown",
   "metadata": {},
   "source": [
    "\n",
    "### 2.5.4 T-Test Assuming Unequal Variance\n",
    "\n",
    "\n",
    "The biggest problem with using the Student test in practice is the assumption listed in the previous section: it assumes that both groups have the same standard deviation. This is rarely true in real life: if two samples don’t have the same means, why should we expect them to have the same standard deviation? There’s really no reason to expect this assumption to be true. The figure below illustrated the assumption for the Welch's t-test."
   ]
  },
  {
   "cell_type": "code",
   "execution_count": 47,
   "metadata": {},
   "outputs": [
    {
     "data": {
      "text/html": [
       "<div>\n",
       "<style scoped>\n",
       "    .dataframe tbody tr th:only-of-type {\n",
       "        vertical-align: middle;\n",
       "    }\n",
       "\n",
       "    .dataframe tbody tr th {\n",
       "        vertical-align: top;\n",
       "    }\n",
       "\n",
       "    .dataframe thead th {\n",
       "        text-align: right;\n",
       "    }\n",
       "</style>\n",
       "<table border=\"1\" class=\"dataframe\">\n",
       "  <thead>\n",
       "    <tr style=\"text-align: right;\">\n",
       "      <th></th>\n",
       "      <th>T</th>\n",
       "      <th>dof</th>\n",
       "      <th>alternative</th>\n",
       "      <th>p-val</th>\n",
       "      <th>CI95%</th>\n",
       "      <th>cohen-d</th>\n",
       "      <th>BF10</th>\n",
       "      <th>power</th>\n",
       "    </tr>\n",
       "  </thead>\n",
       "  <tbody>\n",
       "    <tr>\n",
       "      <th>T-test</th>\n",
       "      <td>1.967693</td>\n",
       "      <td>7.711707</td>\n",
       "      <td>two-sided</td>\n",
       "      <td>0.085993</td>\n",
       "      <td>[-0.07, 0.8]</td>\n",
       "      <td>1.213965</td>\n",
       "      <td>1.469</td>\n",
       "      <td>0.840252</td>\n",
       "    </tr>\n",
       "  </tbody>\n",
       "</table>\n",
       "</div>"
      ],
      "text/plain": [
       "               T       dof alternative     p-val         CI95%   cohen-d  \\\n",
       "T-test  1.967693  7.711707   two-sided  0.085993  [-0.07, 0.8]  1.213965   \n",
       "\n",
       "         BF10     power  \n",
       "T-test  1.469  0.840252  "
      ]
     },
     "execution_count": 47,
     "metadata": {},
     "output_type": "execute_result"
    }
   ],
   "source": [
    "from pingouin import ttest\n",
    "\n",
    "ttest(treatment,control,correction=True)"
   ]
  },
  {
   "cell_type": "markdown",
   "metadata": {},
   "source": [
    "**More comprehensive result:**"
   ]
  },
  {
   "cell_type": "code",
   "execution_count": 48,
   "metadata": {},
   "outputs": [],
   "source": [
    "mean_treatment = treatment.mean()\n",
    "mean_control = control.mean()\n",
    "\n",
    "# Absolute and percentage difference\n",
    "abs_diff = mean_treatment - mean_control\n",
    "pct_diff = (abs_diff / mean_control) * 100\n",
    "\n",
    "# T-test using pingouin\n",
    "ttest = pg.ttest(treatment, control, correction=True)\n",
    "ci_low, ci_high = ttest['CI95%'].values[0]\n",
    "\n",
    "results.append({\n",
    "    'Test': \"Felch's T-Test\",\n",
    "    'Mean Treatment': mean_treatment,\n",
    "    'Mean Control': mean_control,\n",
    "    'Abs Diff': abs_diff,\n",
    "    'Pct Diff (%)': pct_diff,\n",
    "    'p-value': ttest['p-val'].values[0],\n",
    "    'CI Lower': ci_low,\n",
    "    'CI Upper': ci_high\n",
    "})\n"
   ]
  },
  {
   "cell_type": "code",
   "execution_count": 50,
   "metadata": {},
   "outputs": [
    {
     "data": {
      "text/html": [
       "<div>\n",
       "<style scoped>\n",
       "    .dataframe tbody tr th:only-of-type {\n",
       "        vertical-align: middle;\n",
       "    }\n",
       "\n",
       "    .dataframe tbody tr th {\n",
       "        vertical-align: top;\n",
       "    }\n",
       "\n",
       "    .dataframe thead th {\n",
       "        text-align: right;\n",
       "    }\n",
       "</style>\n",
       "<table border=\"1\" class=\"dataframe\">\n",
       "  <thead>\n",
       "    <tr style=\"text-align: right;\">\n",
       "      <th></th>\n",
       "      <th>Test</th>\n",
       "      <th>Mean Treatment</th>\n",
       "      <th>Mean Control</th>\n",
       "      <th>Abs Diff</th>\n",
       "      <th>Pct Diff (%)</th>\n",
       "      <th>p-value</th>\n",
       "      <th>CI Lower</th>\n",
       "      <th>CI Upper</th>\n",
       "    </tr>\n",
       "  </thead>\n",
       "  <tbody>\n",
       "    <tr>\n",
       "      <th>0</th>\n",
       "      <td>Student's T-Test</td>\n",
       "      <td>0.479167</td>\n",
       "      <td>0.111948</td>\n",
       "      <td>0.367219</td>\n",
       "      <td>328.026209</td>\n",
       "      <td>0.004460</td>\n",
       "      <td>0.12</td>\n",
       "      <td>0.61</td>\n",
       "    </tr>\n",
       "    <tr>\n",
       "      <th>1</th>\n",
       "      <td>Felch's T-Test</td>\n",
       "      <td>0.479167</td>\n",
       "      <td>0.111948</td>\n",
       "      <td>0.367219</td>\n",
       "      <td>328.026209</td>\n",
       "      <td>0.085993</td>\n",
       "      <td>-0.07</td>\n",
       "      <td>0.80</td>\n",
       "    </tr>\n",
       "  </tbody>\n",
       "</table>\n",
       "</div>"
      ],
      "text/plain": [
       "               Test  Mean Treatment  Mean Control  Abs Diff  Pct Diff (%)  \\\n",
       "0  Student's T-Test        0.479167      0.111948  0.367219    328.026209   \n",
       "1    Felch's T-Test        0.479167      0.111948  0.367219    328.026209   \n",
       "\n",
       "    p-value  CI Lower  CI Upper  \n",
       "0  0.004460      0.12      0.61  \n",
       "1  0.085993     -0.07      0.80  "
      ]
     },
     "execution_count": 50,
     "metadata": {},
     "output_type": "execute_result"
    }
   ],
   "source": [
    "results_df=pd.DataFrame(results)\n",
    "results_df"
   ]
  },
  {
   "cell_type": "markdown",
   "metadata": {},
   "source": [
    "### [Optional] We can further visualize the results"
   ]
  },
  {
   "cell_type": "code",
   "execution_count": 52,
   "metadata": {},
   "outputs": [
    {
     "data": {
      "image/png": "[encoded data removed]",
      "text/plain": [
       "<Figure size 600x400 with 1 Axes>"
      ]
     },
     "metadata": {},
     "output_type": "display_data"
    }
   ],
   "source": [
    "import matplotlib.pyplot as plt\n",
    "\n",
    "# Vertical version: horizontal error bars\n",
    "fig, ax = plt.subplots(figsize=(6, 4))\n",
    "\n",
    "ax.errorbar(\n",
    "    x=results_df['Abs Diff'],\n",
    "    y=results_df['Test'],\n",
    "    xerr=[results_df['Abs Diff'] - results_df['CI Lower'], results_df['CI Upper'] - results_df['Abs Diff']],\n",
    "    fmt='o',\n",
    "    capsize=5,\n",
    "    linestyle='none'\n",
    ")\n",
    "\n",
    "ax.axvline(0, color='gray', linestyle='--')\n",
    "ax.set_xlabel(\"Difference in Mean Sessions\")\n",
    "ax.set_title(\"Difference in Sessions (with 95% CI)\")\n",
    "plt.tight_layout()\n",
    "plt.show()\n"
   ]
  }
 ],
 "metadata": {
  "kernelspec": {
   "display_name": "Python 3",
   "language": "python",
   "name": "python3"
  },
  "language_info": {
   "codemirror_mode": {
    "name": "ipython",
    "version": 3
   },
   "file_extension": ".py",
   "mimetype": "text/x-python",
   "name": "python",
   "nbconvert_exporter": "python",
   "pygments_lexer": "ipython3",
   "version": "3.12.7"
  }
 },
 "nbformat": 4,
 "nbformat_minor": 2
}
