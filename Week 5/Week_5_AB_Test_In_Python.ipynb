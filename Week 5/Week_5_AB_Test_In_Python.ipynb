{
  "cells": [
    {
      "cell_type": "markdown",
      "metadata": {
        "id": "40g8pKUCCJYQ"
      },
      "source": [
        "# Week 5 - AB Testing"
      ]
    },
    {
      "cell_type": "markdown",
      "metadata": {
        "id": "RkSvqOZtCJYR"
      },
      "source": [
        "Google Analytics provides APIs for others to retrieve data in a flexible way. The flexible report generation is based on the definition of **dimensions** and **metrics**.\n",
        "More information about dimensions and metrics can be found [here](https://developers.google.com/analytics/devguides/reporting/data/v1/api-schema). More information about how to generate reports can be found [here](https://developers.google.com/analytics/devguides/reporting/data/v1/basics#python_3)."
      ]
    },
    {
      "cell_type": "markdown",
      "metadata": {
        "id": "g692pE_8CJYS"
      },
      "source": [
        "# 1. Import Packages\n",
        "https://developers.google.com/analytics/devguides/reporting/data/v1/rest"
      ]
    },
    {
      "cell_type": "code",
      "execution_count": 1,
      "metadata": {
        "colab": {
          "base_uri": "https://localhost:8080/"
        },
        "id": "KotXw-apCJYS",
        "outputId": "e8e0da5e-b694-4d4c-fdeb-05d29df0d0b5"
      },
      "outputs": [
        {
          "output_type": "stream",
          "name": "stdout",
          "text": [
            "Collecting google.analytics.data\n",
            "  Downloading google_analytics_data-0.18.18-py3-none-any.whl.metadata (9.4 kB)\n",
            "Requirement already satisfied: google-api-core!=2.0.*,!=2.1.*,!=2.10.*,!=2.2.*,!=2.3.*,!=2.4.*,!=2.5.*,!=2.6.*,!=2.7.*,!=2.8.*,!=2.9.*,<3.0.0,>=1.34.1 in /usr/local/lib/python3.11/dist-packages (from google-api-core[grpc]!=2.0.*,!=2.1.*,!=2.10.*,!=2.2.*,!=2.3.*,!=2.4.*,!=2.5.*,!=2.6.*,!=2.7.*,!=2.8.*,!=2.9.*,<3.0.0,>=1.34.1->google.analytics.data) (2.24.2)\n",
            "Requirement already satisfied: google-auth!=2.24.0,!=2.25.0,<3.0.0,>=2.14.1 in /usr/local/lib/python3.11/dist-packages (from google.analytics.data) (2.38.0)\n",
            "Requirement already satisfied: proto-plus<2.0.0,>=1.22.3 in /usr/local/lib/python3.11/dist-packages (from google.analytics.data) (1.26.1)\n",
            "Requirement already satisfied: protobuf!=4.21.0,!=4.21.1,!=4.21.2,!=4.21.3,!=4.21.4,!=4.21.5,<7.0.0,>=3.20.2 in /usr/local/lib/python3.11/dist-packages (from google.analytics.data) (5.29.4)\n",
            "Requirement already satisfied: googleapis-common-protos<2.0.0,>=1.56.2 in /usr/local/lib/python3.11/dist-packages (from google-api-core!=2.0.*,!=2.1.*,!=2.10.*,!=2.2.*,!=2.3.*,!=2.4.*,!=2.5.*,!=2.6.*,!=2.7.*,!=2.8.*,!=2.9.*,<3.0.0,>=1.34.1->google-api-core[grpc]!=2.0.*,!=2.1.*,!=2.10.*,!=2.2.*,!=2.3.*,!=2.4.*,!=2.5.*,!=2.6.*,!=2.7.*,!=2.8.*,!=2.9.*,<3.0.0,>=1.34.1->google.analytics.data) (1.69.2)\n",
            "Requirement already satisfied: requests<3.0.0,>=2.18.0 in /usr/local/lib/python3.11/dist-packages (from google-api-core!=2.0.*,!=2.1.*,!=2.10.*,!=2.2.*,!=2.3.*,!=2.4.*,!=2.5.*,!=2.6.*,!=2.7.*,!=2.8.*,!=2.9.*,<3.0.0,>=1.34.1->google-api-core[grpc]!=2.0.*,!=2.1.*,!=2.10.*,!=2.2.*,!=2.3.*,!=2.4.*,!=2.5.*,!=2.6.*,!=2.7.*,!=2.8.*,!=2.9.*,<3.0.0,>=1.34.1->google.analytics.data) (2.32.3)\n",
            "Requirement already satisfied: grpcio<2.0dev,>=1.33.2 in /usr/local/lib/python3.11/dist-packages (from google-api-core[grpc]!=2.0.*,!=2.1.*,!=2.10.*,!=2.2.*,!=2.3.*,!=2.4.*,!=2.5.*,!=2.6.*,!=2.7.*,!=2.8.*,!=2.9.*,<3.0.0,>=1.34.1->google.analytics.data) (1.71.0)\n",
            "Requirement already satisfied: grpcio-status<2.0.dev0,>=1.33.2 in /usr/local/lib/python3.11/dist-packages (from google-api-core[grpc]!=2.0.*,!=2.1.*,!=2.10.*,!=2.2.*,!=2.3.*,!=2.4.*,!=2.5.*,!=2.6.*,!=2.7.*,!=2.8.*,!=2.9.*,<3.0.0,>=1.34.1->google.analytics.data) (1.71.0)\n",
            "Requirement already satisfied: cachetools<6.0,>=2.0.0 in /usr/local/lib/python3.11/dist-packages (from google-auth!=2.24.0,!=2.25.0,<3.0.0,>=2.14.1->google.analytics.data) (5.5.2)\n",
            "Requirement already satisfied: pyasn1-modules>=0.2.1 in /usr/local/lib/python3.11/dist-packages (from google-auth!=2.24.0,!=2.25.0,<3.0.0,>=2.14.1->google.analytics.data) (0.4.2)\n",
            "Requirement already satisfied: rsa<5,>=3.1.4 in /usr/local/lib/python3.11/dist-packages (from google-auth!=2.24.0,!=2.25.0,<3.0.0,>=2.14.1->google.analytics.data) (4.9)\n",
            "Requirement already satisfied: pyasn1<0.7.0,>=0.6.1 in /usr/local/lib/python3.11/dist-packages (from pyasn1-modules>=0.2.1->google-auth!=2.24.0,!=2.25.0,<3.0.0,>=2.14.1->google.analytics.data) (0.6.1)\n",
            "Requirement already satisfied: charset-normalizer<4,>=2 in /usr/local/lib/python3.11/dist-packages (from requests<3.0.0,>=2.18.0->google-api-core!=2.0.*,!=2.1.*,!=2.10.*,!=2.2.*,!=2.3.*,!=2.4.*,!=2.5.*,!=2.6.*,!=2.7.*,!=2.8.*,!=2.9.*,<3.0.0,>=1.34.1->google-api-core[grpc]!=2.0.*,!=2.1.*,!=2.10.*,!=2.2.*,!=2.3.*,!=2.4.*,!=2.5.*,!=2.6.*,!=2.7.*,!=2.8.*,!=2.9.*,<3.0.0,>=1.34.1->google.analytics.data) (3.4.1)\n",
            "Requirement already satisfied: idna<4,>=2.5 in /usr/local/lib/python3.11/dist-packages (from requests<3.0.0,>=2.18.0->google-api-core!=2.0.*,!=2.1.*,!=2.10.*,!=2.2.*,!=2.3.*,!=2.4.*,!=2.5.*,!=2.6.*,!=2.7.*,!=2.8.*,!=2.9.*,<3.0.0,>=1.34.1->google-api-core[grpc]!=2.0.*,!=2.1.*,!=2.10.*,!=2.2.*,!=2.3.*,!=2.4.*,!=2.5.*,!=2.6.*,!=2.7.*,!=2.8.*,!=2.9.*,<3.0.0,>=1.34.1->google.analytics.data) (3.10)\n",
            "Requirement already satisfied: urllib3<3,>=1.21.1 in /usr/local/lib/python3.11/dist-packages (from requests<3.0.0,>=2.18.0->google-api-core!=2.0.*,!=2.1.*,!=2.10.*,!=2.2.*,!=2.3.*,!=2.4.*,!=2.5.*,!=2.6.*,!=2.7.*,!=2.8.*,!=2.9.*,<3.0.0,>=1.34.1->google-api-core[grpc]!=2.0.*,!=2.1.*,!=2.10.*,!=2.2.*,!=2.3.*,!=2.4.*,!=2.5.*,!=2.6.*,!=2.7.*,!=2.8.*,!=2.9.*,<3.0.0,>=1.34.1->google.analytics.data) (2.3.0)\n",
            "Requirement already satisfied: certifi>=2017.4.17 in /usr/local/lib/python3.11/dist-packages (from requests<3.0.0,>=2.18.0->google-api-core!=2.0.*,!=2.1.*,!=2.10.*,!=2.2.*,!=2.3.*,!=2.4.*,!=2.5.*,!=2.6.*,!=2.7.*,!=2.8.*,!=2.9.*,<3.0.0,>=1.34.1->google-api-core[grpc]!=2.0.*,!=2.1.*,!=2.10.*,!=2.2.*,!=2.3.*,!=2.4.*,!=2.5.*,!=2.6.*,!=2.7.*,!=2.8.*,!=2.9.*,<3.0.0,>=1.34.1->google.analytics.data) (2025.1.31)\n",
            "Downloading google_analytics_data-0.18.18-py3-none-any.whl (188 kB)\n",
            "\u001b[2K   \u001b[90m━━━━━━━━━━━━━━━━━━━━━━━━━━━━━━━━━━━━━━━━\u001b[0m \u001b[32m188.4/188.4 kB\u001b[0m \u001b[31m3.2 MB/s\u001b[0m eta \u001b[36m0:00:00\u001b[0m\n",
            "\u001b[?25hInstalling collected packages: google.analytics.data\n",
            "Successfully installed google.analytics.data-0.18.18\n",
            "Collecting pingouin\n",
            "  Downloading pingouin-0.5.5-py3-none-any.whl.metadata (19 kB)\n",
            "Requirement already satisfied: matplotlib in /usr/local/lib/python3.11/dist-packages (from pingouin) (3.10.0)\n",
            "Requirement already satisfied: numpy in /usr/local/lib/python3.11/dist-packages (from pingouin) (2.0.2)\n",
            "Requirement already satisfied: pandas>=1.5 in /usr/local/lib/python3.11/dist-packages (from pingouin) (2.2.2)\n",
            "Collecting pandas-flavor (from pingouin)\n",
            "  Downloading pandas_flavor-0.6.0-py3-none-any.whl.metadata (6.3 kB)\n",
            "Requirement already satisfied: scikit-learn>=1.2 in /usr/local/lib/python3.11/dist-packages (from pingouin) (1.6.1)\n",
            "Requirement already satisfied: scipy in /usr/local/lib/python3.11/dist-packages (from pingouin) (1.14.1)\n",
            "Requirement already satisfied: seaborn in /usr/local/lib/python3.11/dist-packages (from pingouin) (0.13.2)\n",
            "Requirement already satisfied: statsmodels in /usr/local/lib/python3.11/dist-packages (from pingouin) (0.14.4)\n",
            "Requirement already satisfied: tabulate in /usr/local/lib/python3.11/dist-packages (from pingouin) (0.9.0)\n",
            "Requirement already satisfied: python-dateutil>=2.8.2 in /usr/local/lib/python3.11/dist-packages (from pandas>=1.5->pingouin) (2.8.2)\n",
            "Requirement already satisfied: pytz>=2020.1 in /usr/local/lib/python3.11/dist-packages (from pandas>=1.5->pingouin) (2025.2)\n",
            "Requirement already satisfied: tzdata>=2022.7 in /usr/local/lib/python3.11/dist-packages (from pandas>=1.5->pingouin) (2025.2)\n",
            "Requirement already satisfied: joblib>=1.2.0 in /usr/local/lib/python3.11/dist-packages (from scikit-learn>=1.2->pingouin) (1.4.2)\n",
            "Requirement already satisfied: threadpoolctl>=3.1.0 in /usr/local/lib/python3.11/dist-packages (from scikit-learn>=1.2->pingouin) (3.6.0)\n",
            "Requirement already satisfied: contourpy>=1.0.1 in /usr/local/lib/python3.11/dist-packages (from matplotlib->pingouin) (1.3.1)\n",
            "Requirement already satisfied: cycler>=0.10 in /usr/local/lib/python3.11/dist-packages (from matplotlib->pingouin) (0.12.1)\n",
            "Requirement already satisfied: fonttools>=4.22.0 in /usr/local/lib/python3.11/dist-packages (from matplotlib->pingouin) (4.57.0)\n",
            "Requirement already satisfied: kiwisolver>=1.3.1 in /usr/local/lib/python3.11/dist-packages (from matplotlib->pingouin) (1.4.8)\n",
            "Requirement already satisfied: packaging>=20.0 in /usr/local/lib/python3.11/dist-packages (from matplotlib->pingouin) (24.2)\n",
            "Requirement already satisfied: pillow>=8 in /usr/local/lib/python3.11/dist-packages (from matplotlib->pingouin) (11.1.0)\n",
            "Requirement already satisfied: pyparsing>=2.3.1 in /usr/local/lib/python3.11/dist-packages (from matplotlib->pingouin) (3.2.3)\n",
            "Requirement already satisfied: xarray in /usr/local/lib/python3.11/dist-packages (from pandas-flavor->pingouin) (2025.1.2)\n",
            "Requirement already satisfied: patsy>=0.5.6 in /usr/local/lib/python3.11/dist-packages (from statsmodels->pingouin) (1.0.1)\n",
            "Requirement already satisfied: six>=1.5 in /usr/local/lib/python3.11/dist-packages (from python-dateutil>=2.8.2->pandas>=1.5->pingouin) (1.17.0)\n",
            "Downloading pingouin-0.5.5-py3-none-any.whl (204 kB)\n",
            "\u001b[2K   \u001b[90m━━━━━━━━━━━━━━━━━━━━━━━━━━━━━━━━━━━━━━━━\u001b[0m \u001b[32m204.4/204.4 kB\u001b[0m \u001b[31m7.7 MB/s\u001b[0m eta \u001b[36m0:00:00\u001b[0m\n",
            "\u001b[?25hDownloading pandas_flavor-0.6.0-py3-none-any.whl (7.2 kB)\n",
            "Installing collected packages: pandas-flavor, pingouin\n",
            "Successfully installed pandas-flavor-0.6.0 pingouin-0.5.5\n"
          ]
        }
      ],
      "source": [
        "!pip3 install google.analytics.data\n",
        "!pip3 install pingouin"
      ]
    },
    {
      "cell_type": "code",
      "execution_count": 3,
      "metadata": {
        "id": "Iysy9lBbCJYS"
      },
      "outputs": [],
      "source": [
        "from google.analytics.data_v1beta import BetaAnalyticsDataClient\n",
        "from google.analytics.data_v1beta.types import (\n",
        "    DateRange,\n",
        "    Dimension,\n",
        "    Metric,\n",
        "    RunReportRequest,\n",
        "    Filter,\n",
        "    FilterExpression,\n",
        ")\n",
        "import os\n",
        "import pandas as pd\n",
        "import json\n",
        "import scipy.stats as st\n",
        "import numpy as np\n",
        "from google.colab import userdata\n"
      ]
    },
    {
      "cell_type": "markdown",
      "metadata": {
        "id": "phWZDaXjCJYS"
      },
      "source": [
        "# 2 Report Generation\n",
        "Below is a function ```sample_run_report```. The parameter is the property id, and the dimensions, metrics, and date_ranges can be specified below."
      ]
    },
    {
      "cell_type": "markdown",
      "metadata": {
        "id": "kPtIduh9CJYS"
      },
      "source": [
        "## 2.1 Conversion Report\n",
        "The report below collects collects event sessions by experimental group"
      ]
    },
    {
      "cell_type": "code",
      "execution_count": 4,
      "metadata": {
        "id": "mYe11tZNCJYS"
      },
      "outputs": [],
      "source": [
        "def sample_run_report_conversion(property_id=\"424145747\"):\n",
        "    \"\"\"Runs a simple report on a Google Analytics 4 property.\"\"\"\n",
        "    os.environ['GOOGLE_APPLICATION_CREDENTIALS'] = userdata.get('GOOGLE_CREDENTIALS_PATH')\n",
        "    client = BetaAnalyticsDataClient()\n",
        "    request = RunReportRequest(\n",
        "        property=\"properties/{}\".format(property_id),\n",
        "        dimensions=[Dimension(name=\"campaignName\"),Dimension(name=\"eventName\"),Dimension(name=\"date\")], #Dimension(name=\"sessionCampaignName\"),\n",
        "        metrics=[Metric(name=\"sessions\")],\n",
        "        date_ranges=[DateRange(start_date=\"2025-01-01\", end_date=\"today\")],\n",
        "         dimension_filter=FilterExpression(\n",
        "            filter=Filter(\n",
        "                field_name=\"campaignName\",\n",
        "                in_list_filter=Filter.InListFilter(\n",
        "                    values=[\n",
        "                        \"main\",\n",
        "                        \"experiment\"\n",
        "                    ]\n",
        "                ),\n",
        "            )\n",
        "        ),\n",
        "    )\n",
        "    response = client.run_report(request)\n",
        "    return response"
      ]
    },
    {
      "cell_type": "markdown",
      "metadata": {
        "id": "n3H_GhfVCJYT"
      },
      "source": [
        "## 2.2 Session Report\n",
        "The report below shows all experimental sessions:"
      ]
    },
    {
      "cell_type": "code",
      "execution_count": 5,
      "metadata": {
        "id": "c8Dq6T0FCJYT"
      },
      "outputs": [],
      "source": [
        "def sample_run_report_session(property_id=\"424145747\"):\n",
        "    \"\"\"Runs a simple report on a Google Analytics 4 property.\"\"\"\n",
        "    os.environ['GOOGLE_APPLICATION_CREDENTIALS'] = userdata.get('GOOGLE_CREDENTIALS_PATH')\n",
        "    client = BetaAnalyticsDataClient()\n",
        "    request = RunReportRequest(\n",
        "        property=\"properties/{}\".format(property_id),\n",
        "        dimensions=[Dimension(name=\"customEvent:Branch\"),Dimension(name=\"date\")], #Dimension(name=\"sessionCampaignName\"),\n",
        "        metrics=[Metric(name=\"sessions\")],\n",
        "        date_ranges=[DateRange(start_date=\"2025-01-01\", end_date=\"today\")],\n",
        "          dimension_filter=FilterExpression(\n",
        "            filter=Filter(\n",
        "                field_name=\"customEvent:Branch\",\n",
        "                in_list_filter=Filter.InListFilter(\n",
        "                    values=[\n",
        "                        \"main\",\n",
        "                        \"experiment\"\n",
        "                    ]\n",
        "                ),\n",
        "            )\n",
        "        ),\n",
        "    )\n",
        "    response = client.run_report(request)\n",
        "    return response"
      ]
    },
    {
      "cell_type": "markdown",
      "metadata": {
        "id": "j1nFa3D4CJYT"
      },
      "source": [
        "# 3 Data Conversion\n",
        "The default output is json, which we can transform into a dataframe using the following function **response_to_df**."
      ]
    },
    {
      "cell_type": "code",
      "execution_count": 6,
      "metadata": {
        "id": "Dj7mnhqYCJYT"
      },
      "outputs": [],
      "source": [
        "def response_to_df(response):\n",
        "    columns = []\n",
        "    rows = []\n",
        "\n",
        "    for col in response.dimension_headers:\n",
        "        columns.append(col.name)\n",
        "    for col in response.metric_headers:\n",
        "        columns.append(col.name)\n",
        "\n",
        "    for row_data in response.rows:\n",
        "        row = []\n",
        "        for val in row_data.dimension_values:\n",
        "            row.append(val.value)\n",
        "        for val in row_data.metric_values:\n",
        "            row.append(val.value)\n",
        "        rows.append(row)\n",
        "    return pd.DataFrame(rows, columns=columns)\n"
      ]
    },
    {
      "cell_type": "markdown",
      "metadata": {
        "id": "PajNCxyyCJYT"
      },
      "source": [
        "# 4 Data Collection Pipeline\n",
        "\n",
        "## 4.1 Conversion Data\n",
        "The code below shows the main pipeline of this task."
      ]
    },
    {
      "cell_type": "code",
      "execution_count": 7,
      "metadata": {
        "colab": {
          "base_uri": "https://localhost:8080/"
        },
        "id": "ONtq1X-ZCJYT",
        "outputId": "0d8efbfb-8077-4865-e748-5b4fde7af39d"
      },
      "outputs": [
        {
          "output_type": "stream",
          "name": "stdout",
          "text": [
            "   campaignName eventName      date sessions\n",
            "0          main     again  20250312        7\n",
            "1          main    submit  20250320        5\n",
            "2    experiment     again  20250407        4\n",
            "3    experiment    submit  20250407        4\n",
            "4          main     again  20250407        4\n",
            "5          main    submit  20250407        4\n",
            "6          main     again  20250301        3\n",
            "7          main     again  20250319        3\n",
            "8          main    submit  20250228        3\n",
            "9          main    submit  20250301        3\n",
            "10         main     again  20250227        2\n",
            "11         main     again  20250228        2\n",
            "12         main     again  20250303        2\n",
            "13         main     again  20250313        2\n",
            "14         main    submit  20250227        2\n",
            "15   experiment     again  20250311        1\n",
            "16   experiment     again  20250312        1\n",
            "17   experiment    submit  20250307        1\n",
            "18   experiment    submit  20250310        1\n",
            "19   experiment    submit  20250311        1\n",
            "20         main     again  20250306        1\n",
            "21         main     again  20250311        1\n",
            "22         main     again  20250316        1\n",
            "23         main     again  20250320        1\n",
            "24         main     again  20250325        1\n",
            "25         main     again  20250326        1\n",
            "26         main    submit  20250303        1\n",
            "27         main    submit  20250325        1\n"
          ]
        }
      ],
      "source": [
        "response=sample_run_report_conversion(property_id=\"424145747\")\n",
        "df1=response_to_df(response)\n",
        "print(df1)\n",
        "\n",
        "# change the column name from  campaignName to customEvent:Branch\n",
        "df1.rename(columns={'campaignName': 'customEvent:Branch'}, inplace=True)\n",
        "# Only look at submit\n",
        "df1 = df1[df1['eventName'] == 'submit']"
      ]
    },
    {
      "cell_type": "markdown",
      "metadata": {
        "id": "6mDvexewCJYT"
      },
      "source": [
        "## 4.2 Session Data"
      ]
    },
    {
      "cell_type": "code",
      "execution_count": 8,
      "metadata": {
        "colab": {
          "base_uri": "https://localhost:8080/"
        },
        "id": "GFZKW3pYCJYT",
        "outputId": "d21c3edb-59d9-43de-b02b-b023ce5106c8"
      },
      "outputs": [
        {
          "output_type": "stream",
          "name": "stdout",
          "text": [
            "   customEvent:Branch      date sessions\n",
            "0                main  20250313       36\n",
            "1                main  20250320       19\n",
            "2                main  20250312       16\n",
            "3                main  20250228        9\n",
            "4                main  20250319        9\n",
            "5                main  20250316        8\n",
            "6                main  20250317        8\n",
            "7                main  20250321        6\n",
            "8                main  20250227        5\n",
            "9                main  20250407        5\n",
            "10         experiment  20250407        4\n",
            "11               main  20250301        4\n",
            "12               main  20250326        4\n",
            "13               main  20250303        3\n",
            "14               main  20250314        3\n",
            "15               main  20250318        3\n",
            "16               main  20250327        3\n",
            "17               main  20250306        2\n",
            "18               main  20250311        2\n",
            "19               main  20250315        2\n",
            "20               main  20250322        2\n",
            "21               main  20250324        2\n",
            "22               main  20250325        2\n",
            "23               main  20250330        2\n",
            "24         experiment  20250304        1\n",
            "25         experiment  20250307        1\n",
            "26         experiment  20250308        1\n",
            "27         experiment  20250310        1\n",
            "28         experiment  20250311        1\n",
            "29         experiment  20250312        1\n",
            "30         experiment  20250325        1\n",
            "31               main  20250302        1\n",
            "32               main  20250310        1\n",
            "33               main  20250328        1\n",
            "34               main  20250331        1\n",
            "35               main  20250401        1\n",
            "36               main  20250402        1\n"
          ]
        }
      ],
      "source": [
        "response=sample_run_report_session(property_id=\"424145747\")\n",
        "df2=response_to_df(response)\n",
        "print(df2)"
      ]
    },
    {
      "cell_type": "markdown",
      "metadata": {
        "id": "6NMr9jgfCJYT"
      },
      "source": [
        "# 5. Hypothesis Testing"
      ]
    },
    {
      "cell_type": "markdown",
      "metadata": {
        "id": "Z5Qo4DmyCJYT"
      },
      "source": [
        "## 5.1 Prepare Data\n",
        "To combine the two datasets, we used a merge function:\n",
        "\n",
        "![left-outer-join-operation.png](attachment:left-outer-join-operation.png)"
      ]
    },
    {
      "cell_type": "code",
      "execution_count": 9,
      "metadata": {
        "id": "bCOTm3rwCJYT"
      },
      "outputs": [],
      "source": [
        "\n",
        "\n",
        "# the merge function can combine two dataframes based on keywords. A left\n",
        "merged_df = pd.merge(df2, df1, on=['date', 'customEvent:Branch'], how='left')\n",
        "\n",
        "merged_df.fillna(0, inplace=True)\n",
        "\n",
        "# calculate the ratio between submission sessions and all sessions per day.\n",
        "merged_df['submit_session_ratio_per_day']=merged_df['sessions_y'].astype(int)/merged_df['sessions_x'].astype(int)\n",
        "\n",
        "# extract data for control\n",
        "control = merged_df[merged_df['customEvent:Branch'] == 'main']['submit_session_ratio_per_day']\n",
        "# extract data for treatment\n",
        "treatment =merged_df[merged_df['customEvent:Branch'] == 'experiment']['submit_session_ratio_per_day']\n"
      ]
    },
    {
      "cell_type": "markdown",
      "metadata": {
        "id": "KGihN0MFCJYT"
      },
      "source": [
        "## 5.2 T-Test Assuming Equal Variance\n",
        "This is a test for the null hypothesis that 2 independent samples have identical average (expected) values. This test assumes that the populations have identical variances by default."
      ]
    },
    {
      "cell_type": "code",
      "execution_count": 10,
      "metadata": {
        "colab": {
          "base_uri": "https://localhost:8080/"
        },
        "id": "NT4-kkAnCJYT",
        "outputId": "4be203a3-56d5-46d5-caf4-e63dfda2085f"
      },
      "outputs": [
        {
          "output_type": "stream",
          "name": "stdout",
          "text": [
            "The difference is statistically significant.\n",
            "Control Group Mean: 0.11654567453115547\n",
            "Treatment Group Mean: 0.5\n",
            "P-Value: 0.004552170169304439\n"
          ]
        }
      ],
      "source": [
        "# Calculate sample means for both groups\n",
        "mean_control = np.mean(control)\n",
        "mean_treatment = np.mean(treatment)\n",
        "\n",
        "# Calculate sample standard deviations for both groups\n",
        "std_control = np.std(control)\n",
        "std_treatment = np.std(treatment)\n",
        "\n",
        "\n",
        "t_stat, p_value = st.ttest_ind(treatment, control)\n",
        "\n",
        "# Define significance level\n",
        "alpha = 0.05\n",
        "\n",
        "# Check if the difference is statistically significant\n",
        "if p_value < alpha:\n",
        "    print(\"The difference is statistically significant.\")\n",
        "else:\n",
        "    print(\"The difference is not statistically significant.\")\n",
        "\n",
        "# Output the results\n",
        "print(f\"Control Group Mean: {mean_control}\")\n",
        "print(f\"Treatment Group Mean: {mean_treatment}\")\n",
        "print(f\"P-Value: {p_value}\")"
      ]
    },
    {
      "cell_type": "code",
      "execution_count": 11,
      "metadata": {
        "colab": {
          "base_uri": "https://localhost:8080/",
          "height": 81
        },
        "id": "We4JZmolCJYT",
        "outputId": "0a873cdb-efc9-436d-cb38-18fab01a0a76"
      },
      "outputs": [
        {
          "output_type": "execute_result",
          "data": {
            "text/plain": [
              "               T  dof alternative     p-val         CI95%   cohen-d   BF10  \\\n",
              "T-test  3.032026   35   two-sided  0.004552  [0.13, 0.64]  1.210848  8.933   \n",
              "\n",
              "           power  \n",
              "T-test  0.838402  "
            ],
            "text/html": [
              "\n",
              "  <div id=\"df-6ca8bec8-d99c-42ee-8ed8-48f95be5d53f\" class=\"colab-df-container\">\n",
              "    <div>\n",
              "<style scoped>\n",
              "    .dataframe tbody tr th:only-of-type {\n",
              "        vertical-align: middle;\n",
              "    }\n",
              "\n",
              "    .dataframe tbody tr th {\n",
              "        vertical-align: top;\n",
              "    }\n",
              "\n",
              "    .dataframe thead th {\n",
              "        text-align: right;\n",
              "    }\n",
              "</style>\n",
              "<table border=\"1\" class=\"dataframe\">\n",
              "  <thead>\n",
              "    <tr style=\"text-align: right;\">\n",
              "      <th></th>\n",
              "      <th>T</th>\n",
              "      <th>dof</th>\n",
              "      <th>alternative</th>\n",
              "      <th>p-val</th>\n",
              "      <th>CI95%</th>\n",
              "      <th>cohen-d</th>\n",
              "      <th>BF10</th>\n",
              "      <th>power</th>\n",
              "    </tr>\n",
              "  </thead>\n",
              "  <tbody>\n",
              "    <tr>\n",
              "      <th>T-test</th>\n",
              "      <td>3.032026</td>\n",
              "      <td>35</td>\n",
              "      <td>two-sided</td>\n",
              "      <td>0.004552</td>\n",
              "      <td>[0.13, 0.64]</td>\n",
              "      <td>1.210848</td>\n",
              "      <td>8.933</td>\n",
              "      <td>0.838402</td>\n",
              "    </tr>\n",
              "  </tbody>\n",
              "</table>\n",
              "</div>\n",
              "    <div class=\"colab-df-buttons\">\n",
              "\n",
              "  <div class=\"colab-df-container\">\n",
              "    <button class=\"colab-df-convert\" onclick=\"convertToInteractive('df-6ca8bec8-d99c-42ee-8ed8-48f95be5d53f')\"\n",
              "            title=\"Convert this dataframe to an interactive table.\"\n",
              "            style=\"display:none;\">\n",
              "\n",
              "  <svg xmlns=\"http://www.w3.org/2000/svg\" height=\"24px\" viewBox=\"0 -960 960 960\">\n",
              "    <path d=\"M120-120v-720h720v720H120Zm60-500h600v-160H180v160Zm220 220h160v-160H400v160Zm0 220h160v-160H400v160ZM180-400h160v-160H180v160Zm440 0h160v-160H620v160ZM180-180h160v-160H180v160Zm440 0h160v-160H620v160Z\"/>\n",
              "  </svg>\n",
              "    </button>\n",
              "\n",
              "  <style>\n",
              "    .colab-df-container {\n",
              "      display:flex;\n",
              "      gap: 12px;\n",
              "    }\n",
              "\n",
              "    .colab-df-convert {\n",
              "      background-color: #E8F0FE;\n",
              "      border: none;\n",
              "      border-radius: 50%;\n",
              "      cursor: pointer;\n",
              "      display: none;\n",
              "      fill: #1967D2;\n",
              "      height: 32px;\n",
              "      padding: 0 0 0 0;\n",
              "      width: 32px;\n",
              "    }\n",
              "\n",
              "    .colab-df-convert:hover {\n",
              "      background-color: #E2EBFA;\n",
              "      box-shadow: 0px 1px 2px rgba(60, 64, 67, 0.3), 0px 1px 3px 1px rgba(60, 64, 67, 0.15);\n",
              "      fill: #174EA6;\n",
              "    }\n",
              "\n",
              "    .colab-df-buttons div {\n",
              "      margin-bottom: 4px;\n",
              "    }\n",
              "\n",
              "    [theme=dark] .colab-df-convert {\n",
              "      background-color: #3B4455;\n",
              "      fill: #D2E3FC;\n",
              "    }\n",
              "\n",
              "    [theme=dark] .colab-df-convert:hover {\n",
              "      background-color: #434B5C;\n",
              "      box-shadow: 0px 1px 3px 1px rgba(0, 0, 0, 0.15);\n",
              "      filter: drop-shadow(0px 1px 2px rgba(0, 0, 0, 0.3));\n",
              "      fill: #FFFFFF;\n",
              "    }\n",
              "  </style>\n",
              "\n",
              "    <script>\n",
              "      const buttonEl =\n",
              "        document.querySelector('#df-6ca8bec8-d99c-42ee-8ed8-48f95be5d53f button.colab-df-convert');\n",
              "      buttonEl.style.display =\n",
              "        google.colab.kernel.accessAllowed ? 'block' : 'none';\n",
              "\n",
              "      async function convertToInteractive(key) {\n",
              "        const element = document.querySelector('#df-6ca8bec8-d99c-42ee-8ed8-48f95be5d53f');\n",
              "        const dataTable =\n",
              "          await google.colab.kernel.invokeFunction('convertToInteractive',\n",
              "                                                    [key], {});\n",
              "        if (!dataTable) return;\n",
              "\n",
              "        const docLinkHtml = 'Like what you see? Visit the ' +\n",
              "          '<a target=\"_blank\" href=https://colab.research.google.com/notebooks/data_table.ipynb>data table notebook</a>'\n",
              "          + ' to learn more about interactive tables.';\n",
              "        element.innerHTML = '';\n",
              "        dataTable['output_type'] = 'display_data';\n",
              "        await google.colab.output.renderOutput(dataTable, element);\n",
              "        const docLink = document.createElement('div');\n",
              "        docLink.innerHTML = docLinkHtml;\n",
              "        element.appendChild(docLink);\n",
              "      }\n",
              "    </script>\n",
              "  </div>\n",
              "\n",
              "\n",
              "    </div>\n",
              "  </div>\n"
            ],
            "application/vnd.google.colaboratory.intrinsic+json": {
              "type": "dataframe",
              "summary": "{\n  \"name\": \"ttest(treatment,control,correction=False)\",\n  \"rows\": 1,\n  \"fields\": [\n    {\n      \"column\": \"T\",\n      \"properties\": {\n        \"dtype\": \"number\",\n        \"std\": null,\n        \"min\": 3.0320257287090895,\n        \"max\": 3.0320257287090895,\n        \"num_unique_values\": 1,\n        \"samples\": [\n          3.0320257287090895\n        ],\n        \"semantic_type\": \"\",\n        \"description\": \"\"\n      }\n    },\n    {\n      \"column\": \"dof\",\n      \"properties\": {\n        \"dtype\": \"number\",\n        \"std\": null,\n        \"min\": 35,\n        \"max\": 35,\n        \"num_unique_values\": 1,\n        \"samples\": [\n          35\n        ],\n        \"semantic_type\": \"\",\n        \"description\": \"\"\n      }\n    },\n    {\n      \"column\": \"alternative\",\n      \"properties\": {\n        \"dtype\": \"string\",\n        \"num_unique_values\": 1,\n        \"samples\": [\n          \"two-sided\"\n        ],\n        \"semantic_type\": \"\",\n        \"description\": \"\"\n      }\n    },\n    {\n      \"column\": \"p-val\",\n      \"properties\": {\n        \"dtype\": \"number\",\n        \"std\": null,\n        \"min\": 0.004552170169304439,\n        \"max\": 0.004552170169304439,\n        \"num_unique_values\": 1,\n        \"samples\": [\n          0.004552170169304439\n        ],\n        \"semantic_type\": \"\",\n        \"description\": \"\"\n      }\n    },\n    {\n      \"column\": \"CI95%\",\n      \"properties\": {\n        \"dtype\": \"object\",\n        \"semantic_type\": \"\",\n        \"description\": \"\"\n      }\n    },\n    {\n      \"column\": \"cohen-d\",\n      \"properties\": {\n        \"dtype\": \"number\",\n        \"std\": null,\n        \"min\": 1.2108483431111676,\n        \"max\": 1.2108483431111676,\n        \"num_unique_values\": 1,\n        \"samples\": [\n          1.2108483431111676\n        ],\n        \"semantic_type\": \"\",\n        \"description\": \"\"\n      }\n    },\n    {\n      \"column\": \"BF10\",\n      \"properties\": {\n        \"dtype\": \"string\",\n        \"num_unique_values\": 1,\n        \"samples\": [\n          \"8.933\"\n        ],\n        \"semantic_type\": \"\",\n        \"description\": \"\"\n      }\n    },\n    {\n      \"column\": \"power\",\n      \"properties\": {\n        \"dtype\": \"number\",\n        \"std\": null,\n        \"min\": 0.8384020268719664,\n        \"max\": 0.8384020268719664,\n        \"num_unique_values\": 1,\n        \"samples\": [\n          0.8384020268719664\n        ],\n        \"semantic_type\": \"\",\n        \"description\": \"\"\n      }\n    }\n  ]\n}"
            }
          },
          "metadata": {},
          "execution_count": 11
        }
      ],
      "source": [
        "from pingouin import ttest\n",
        "\n",
        "ttest(treatment,control,correction=False)"
      ]
    },
    {
      "cell_type": "markdown",
      "metadata": {
        "id": "WZcWfsI0CJYT"
      },
      "source": [
        "## 5.3 T-Test Assuming Unequal Variance"
      ]
    },
    {
      "cell_type": "code",
      "execution_count": 12,
      "metadata": {
        "colab": {
          "base_uri": "https://localhost:8080/",
          "height": 81
        },
        "id": "voLSwSAiCJYT",
        "outputId": "4180dc02-ab72-4e12-95b4-0e9e62eacc18"
      },
      "outputs": [
        {
          "output_type": "execute_result",
          "data": {
            "text/plain": [
              "               T       dof alternative     p-val          CI95%   cohen-d  \\\n",
              "T-test  1.978199  7.742731   two-sided  0.084475  [-0.07, 0.83]  1.210848   \n",
              "\n",
              "         BF10     power  \n",
              "T-test  1.491  0.838402  "
            ],
            "text/html": [
              "\n",
              "  <div id=\"df-e54e7fc5-ae15-442e-9d92-8c881efb3278\" class=\"colab-df-container\">\n",
              "    <div>\n",
              "<style scoped>\n",
              "    .dataframe tbody tr th:only-of-type {\n",
              "        vertical-align: middle;\n",
              "    }\n",
              "\n",
              "    .dataframe tbody tr th {\n",
              "        vertical-align: top;\n",
              "    }\n",
              "\n",
              "    .dataframe thead th {\n",
              "        text-align: right;\n",
              "    }\n",
              "</style>\n",
              "<table border=\"1\" class=\"dataframe\">\n",
              "  <thead>\n",
              "    <tr style=\"text-align: right;\">\n",
              "      <th></th>\n",
              "      <th>T</th>\n",
              "      <th>dof</th>\n",
              "      <th>alternative</th>\n",
              "      <th>p-val</th>\n",
              "      <th>CI95%</th>\n",
              "      <th>cohen-d</th>\n",
              "      <th>BF10</th>\n",
              "      <th>power</th>\n",
              "    </tr>\n",
              "  </thead>\n",
              "  <tbody>\n",
              "    <tr>\n",
              "      <th>T-test</th>\n",
              "      <td>1.978199</td>\n",
              "      <td>7.742731</td>\n",
              "      <td>two-sided</td>\n",
              "      <td>0.084475</td>\n",
              "      <td>[-0.07, 0.83]</td>\n",
              "      <td>1.210848</td>\n",
              "      <td>1.491</td>\n",
              "      <td>0.838402</td>\n",
              "    </tr>\n",
              "  </tbody>\n",
              "</table>\n",
              "</div>\n",
              "    <div class=\"colab-df-buttons\">\n",
              "\n",
              "  <div class=\"colab-df-container\">\n",
              "    <button class=\"colab-df-convert\" onclick=\"convertToInteractive('df-e54e7fc5-ae15-442e-9d92-8c881efb3278')\"\n",
              "            title=\"Convert this dataframe to an interactive table.\"\n",
              "            style=\"display:none;\">\n",
              "\n",
              "  <svg xmlns=\"http://www.w3.org/2000/svg\" height=\"24px\" viewBox=\"0 -960 960 960\">\n",
              "    <path d=\"M120-120v-720h720v720H120Zm60-500h600v-160H180v160Zm220 220h160v-160H400v160Zm0 220h160v-160H400v160ZM180-400h160v-160H180v160Zm440 0h160v-160H620v160ZM180-180h160v-160H180v160Zm440 0h160v-160H620v160Z\"/>\n",
              "  </svg>\n",
              "    </button>\n",
              "\n",
              "  <style>\n",
              "    .colab-df-container {\n",
              "      display:flex;\n",
              "      gap: 12px;\n",
              "    }\n",
              "\n",
              "    .colab-df-convert {\n",
              "      background-color: #E8F0FE;\n",
              "      border: none;\n",
              "      border-radius: 50%;\n",
              "      cursor: pointer;\n",
              "      display: none;\n",
              "      fill: #1967D2;\n",
              "      height: 32px;\n",
              "      padding: 0 0 0 0;\n",
              "      width: 32px;\n",
              "    }\n",
              "\n",
              "    .colab-df-convert:hover {\n",
              "      background-color: #E2EBFA;\n",
              "      box-shadow: 0px 1px 2px rgba(60, 64, 67, 0.3), 0px 1px 3px 1px rgba(60, 64, 67, 0.15);\n",
              "      fill: #174EA6;\n",
              "    }\n",
              "\n",
              "    .colab-df-buttons div {\n",
              "      margin-bottom: 4px;\n",
              "    }\n",
              "\n",
              "    [theme=dark] .colab-df-convert {\n",
              "      background-color: #3B4455;\n",
              "      fill: #D2E3FC;\n",
              "    }\n",
              "\n",
              "    [theme=dark] .colab-df-convert:hover {\n",
              "      background-color: #434B5C;\n",
              "      box-shadow: 0px 1px 3px 1px rgba(0, 0, 0, 0.15);\n",
              "      filter: drop-shadow(0px 1px 2px rgba(0, 0, 0, 0.3));\n",
              "      fill: #FFFFFF;\n",
              "    }\n",
              "  </style>\n",
              "\n",
              "    <script>\n",
              "      const buttonEl =\n",
              "        document.querySelector('#df-e54e7fc5-ae15-442e-9d92-8c881efb3278 button.colab-df-convert');\n",
              "      buttonEl.style.display =\n",
              "        google.colab.kernel.accessAllowed ? 'block' : 'none';\n",
              "\n",
              "      async function convertToInteractive(key) {\n",
              "        const element = document.querySelector('#df-e54e7fc5-ae15-442e-9d92-8c881efb3278');\n",
              "        const dataTable =\n",
              "          await google.colab.kernel.invokeFunction('convertToInteractive',\n",
              "                                                    [key], {});\n",
              "        if (!dataTable) return;\n",
              "\n",
              "        const docLinkHtml = 'Like what you see? Visit the ' +\n",
              "          '<a target=\"_blank\" href=https://colab.research.google.com/notebooks/data_table.ipynb>data table notebook</a>'\n",
              "          + ' to learn more about interactive tables.';\n",
              "        element.innerHTML = '';\n",
              "        dataTable['output_type'] = 'display_data';\n",
              "        await google.colab.output.renderOutput(dataTable, element);\n",
              "        const docLink = document.createElement('div');\n",
              "        docLink.innerHTML = docLinkHtml;\n",
              "        element.appendChild(docLink);\n",
              "      }\n",
              "    </script>\n",
              "  </div>\n",
              "\n",
              "\n",
              "    </div>\n",
              "  </div>\n"
            ],
            "application/vnd.google.colaboratory.intrinsic+json": {
              "type": "dataframe",
              "summary": "{\n  \"name\": \"ttest(treatment,control,correction=True)\",\n  \"rows\": 1,\n  \"fields\": [\n    {\n      \"column\": \"T\",\n      \"properties\": {\n        \"dtype\": \"number\",\n        \"std\": null,\n        \"min\": 1.978199332925838,\n        \"max\": 1.978199332925838,\n        \"num_unique_values\": 1,\n        \"samples\": [\n          1.978199332925838\n        ],\n        \"semantic_type\": \"\",\n        \"description\": \"\"\n      }\n    },\n    {\n      \"column\": \"dof\",\n      \"properties\": {\n        \"dtype\": \"number\",\n        \"std\": null,\n        \"min\": 7.742731028255375,\n        \"max\": 7.742731028255375,\n        \"num_unique_values\": 1,\n        \"samples\": [\n          7.742731028255375\n        ],\n        \"semantic_type\": \"\",\n        \"description\": \"\"\n      }\n    },\n    {\n      \"column\": \"alternative\",\n      \"properties\": {\n        \"dtype\": \"string\",\n        \"num_unique_values\": 1,\n        \"samples\": [\n          \"two-sided\"\n        ],\n        \"semantic_type\": \"\",\n        \"description\": \"\"\n      }\n    },\n    {\n      \"column\": \"p-val\",\n      \"properties\": {\n        \"dtype\": \"number\",\n        \"std\": null,\n        \"min\": 0.08447476928867599,\n        \"max\": 0.08447476928867599,\n        \"num_unique_values\": 1,\n        \"samples\": [\n          0.08447476928867599\n        ],\n        \"semantic_type\": \"\",\n        \"description\": \"\"\n      }\n    },\n    {\n      \"column\": \"CI95%\",\n      \"properties\": {\n        \"dtype\": \"object\",\n        \"semantic_type\": \"\",\n        \"description\": \"\"\n      }\n    },\n    {\n      \"column\": \"cohen-d\",\n      \"properties\": {\n        \"dtype\": \"number\",\n        \"std\": null,\n        \"min\": 1.2108483431111676,\n        \"max\": 1.2108483431111676,\n        \"num_unique_values\": 1,\n        \"samples\": [\n          1.2108483431111676\n        ],\n        \"semantic_type\": \"\",\n        \"description\": \"\"\n      }\n    },\n    {\n      \"column\": \"BF10\",\n      \"properties\": {\n        \"dtype\": \"string\",\n        \"num_unique_values\": 1,\n        \"samples\": [\n          \"1.491\"\n        ],\n        \"semantic_type\": \"\",\n        \"description\": \"\"\n      }\n    },\n    {\n      \"column\": \"power\",\n      \"properties\": {\n        \"dtype\": \"number\",\n        \"std\": null,\n        \"min\": 0.8384020268719664,\n        \"max\": 0.8384020268719664,\n        \"num_unique_values\": 1,\n        \"samples\": [\n          0.8384020268719664\n        ],\n        \"semantic_type\": \"\",\n        \"description\": \"\"\n      }\n    }\n  ]\n}"
            }
          },
          "metadata": {},
          "execution_count": 12
        }
      ],
      "source": [
        "from pingouin import ttest\n",
        "\n",
        "ttest(treatment,control,correction=True)"
      ]
    },
    {
      "cell_type": "markdown",
      "metadata": {
        "id": "3eBsO5QECJYU"
      },
      "source": [
        "# 6. Practice 1: Channel Comparison\n",
        "Compare the session numbers for the two campaigns: one with medium being \"announcement\" and the other with medium being \"canvas\"."
      ]
    },
    {
      "cell_type": "code",
      "execution_count": 15,
      "metadata": {
        "id": "aBjrN5tkCJYU"
      },
      "outputs": [],
      "source": [
        "# Practice\n",
        "def sample_run_report_practice(property_id=\"424145747\"):\n",
        "    \"\"\"Runs a simple report on a Google Analytics 4 property.\"\"\"\n",
        "    os.environ['GOOGLE_APPLICATION_CREDENTIALS'] = userdata.get('GOOGLE_CREDENTIALS_PATH')\n",
        "    client = BetaAnalyticsDataClient()\n",
        "    request = RunReportRequest(\n",
        "        property=\"properties/{}\".format(property_id),\n",
        "        dimensions=[Dimension(name=\"source\"),Dimension(name=\"medium\"),Dimension(name=\"date\")], #Dimension(name=\"sessionCampaignName\"),\n",
        "        metrics=[Metric(name=\"sessions\")],\n",
        "        date_ranges=[DateRange(start_date=\"2024-01-01\", end_date=\"today\")],\n",
        "         dimension_filter=FilterExpression(\n",
        "            filter=Filter(\n",
        "                field_name=\"source\",\n",
        "                in_list_filter=Filter.InListFilter(\n",
        "                    values=[\n",
        "                        \"social\"\n",
        "                    ]\n",
        "                ),\n",
        "            )\n",
        "        ),\n",
        "    )\n",
        "    response = client.run_report(request)\n",
        "    return response"
      ]
    },
    {
      "cell_type": "code",
      "execution_count": 14,
      "metadata": {
        "colab": {
          "base_uri": "https://localhost:8080/"
        },
        "id": "Jv2lGgjBCJYU",
        "outputId": "4d57750f-c700-4e03-e9c4-8d87e31a0006"
      },
      "outputs": [
        {
          "output_type": "stream",
          "name": "stdout",
          "text": [
            "    source        medium      date sessions\n",
            "0   social  announcement  20250312        3\n",
            "1   social        canvas  20240311        3\n",
            "2   social  announcement  20240310        2\n",
            "3   social  announcement  20250311        2\n",
            "4   social  announcement  20250407        2\n",
            "5   social        canvas  20240309        2\n",
            "6   social  announcement  20240309        1\n",
            "7   social  announcement  20240311        1\n",
            "8   social  announcement  20240322        1\n",
            "9   social  announcement  20250306        1\n",
            "10  social  announcement  20250307        1\n",
            "11  social  announcement  20250310        1\n",
            "12  social  announcement  20250316        1\n",
            "13  social  announcement  20250320        1\n",
            "14  social  announcement  20250325        1\n",
            "15  social        canvas  20240322        1\n"
          ]
        }
      ],
      "source": [
        "response=sample_run_report_practice(property_id=\"424145747\")\n",
        "df=response_to_df(response)\n",
        "print(df)"
      ]
    },
    {
      "cell_type": "code",
      "execution_count": 17,
      "metadata": {
        "id": "B5s7zZ-mCJYU"
      },
      "outputs": [],
      "source": [
        "from scipy import stats\n",
        "from scipy.stats import ttest_ind\n",
        "\n",
        "# Hypothesis testing\n",
        "\n",
        "control = df[df['medium'] == 'canvas']['sessions'].astype(int)\n",
        "# extract data for treatment\n",
        "treatment =df[df['medium'] == 'announcement']['sessions'].astype(int)\n"
      ]
    },
    {
      "cell_type": "markdown",
      "source": [
        "> Complete the code to check whether the average session numberis different across these two channels."
      ],
      "metadata": {
        "id": "vdXKkUi-DxzI"
      }
    },
    {
      "cell_type": "markdown",
      "source": [
        "# 7. Practice 2: Feedback Comparison\n",
        "\n",
        "> On a daily level, do you get more thumbs ups than thumbs downs?"
      ],
      "metadata": {
        "id": "POXWRQisEDdB"
      }
    }
  ],
  "metadata": {
    "kernelspec": {
      "display_name": "Python 3",
      "language": "python",
      "name": "python3"
    },
    "language_info": {
      "codemirror_mode": {
        "name": "ipython",
        "version": 3
      },
      "file_extension": ".py",
      "mimetype": "text/x-python",
      "name": "python",
      "nbconvert_exporter": "python",
      "pygments_lexer": "ipython3",
      "version": "3.12.7"
    },
    "colab": {
      "provenance": []
    }
  },
  "nbformat": 4,
  "nbformat_minor": 0
}