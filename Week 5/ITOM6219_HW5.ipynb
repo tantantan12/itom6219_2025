{
  "cells": [
    {
      "cell_type": "code",
      "execution_count": null,
      "metadata": {
        "id": "gaJkhzPIId34"
      },
      "outputs": [],
      "source": [
        "# Homework 5 - AB Test"
      ]
    },
    {
      "cell_type": "code",
      "execution_count": null,
      "metadata": {
        "id": "Th55Jz17Id35"
      },
      "outputs": [],
      "source": [
        "!pip3 install google.analytics.data\n",
        "!pip3 install pingouin"
      ]
    },
    {
      "cell_type": "code",
      "execution_count": null,
      "metadata": {
        "id": "ke_mnjupId35"
      },
      "outputs": [],
      "source": [
        "from google.analytics.data_v1beta import BetaAnalyticsDataClient\n",
        "from google.analytics.data_v1beta.types import (\n",
        "    DateRange,\n",
        "    Dimension,\n",
        "    Metric,\n",
        "    RunReportRequest,\n",
        "    Filter,\n",
        "    FilterExpression,\n",
        ")\n",
        "import os\n",
        "import pandas as pd\n",
        "import json\n",
        "import scipy.stats as st\n",
        "import numpy as np\n",
        "from pingouin import ttest\n",
        "from google.colab import userdata\n"
      ]
    },
    {
      "cell_type": "markdown",
      "metadata": {
        "id": "OHKDxZ70Id35"
      },
      "source": [
        "# Project 1\n",
        "Compare the session numbers for the two campaigns: one with medium being \"announcement\" and the other with medium being \"canvas\". Perform statistical tests to compare the difference.\n",
        "\n",
        "Please make sure to upload the json file to the working folder.\n",
        "Add a secret key:\n",
        "- Name: GOOGLE_CREDENTIALS_PATH\n",
        "- Value: name of the json file."
      ]
    },
    {
      "cell_type": "markdown",
      "metadata": {
        "id": "xHHLHtI7Id36"
      },
      "source": [
        "## Problem 1.1\n",
        "\n",
        "Construct the function sample_run_report:\n",
        "- keep dimensions: source, medium, campaignName, date\n",
        "- keep metric: sessions\n",
        "- date range: start_date=\"2025-01-01\", end_date=\"today\"\n",
        "- property_id=\"424145747\" (This is Jane's app).\n",
        "\n",
        "Expected output:\n",
        "\n",
        "-code"
      ]
    },
    {
      "cell_type": "code",
      "execution_count": null,
      "metadata": {
        "id": "LAgDYsvHId36"
      },
      "outputs": [],
      "source": [
        "def sample_run_report(property_id=\"424145747\"):\n",
        "    \"\"\"Runs a simple report on a Google Analytics 4 property.\"\"\"\n",
        "    os.environ['GOOGLE_APPLICATION_CREDENTIALS'] = 'bigquery-419120-14d56b3f70eb.json'\n",
        "    client = BetaAnalyticsDataClient()\n",
        "    request = RunReportRequest(\n",
        "        property=\"properties/{}\".format(property_id),\n",
        "        dimensions=## Please complete the code\n",
        "        metrics=## Please complete the code\n",
        "        date_ranges=[DateRange(start_date=\"2025-01-01\", end_date=\"today\")],\n",
        "    )\n",
        "    response = client.run_report(request)\n",
        "    return response"
      ]
    },
    {
      "cell_type": "markdown",
      "metadata": {
        "id": "Dk4npqzuId36"
      },
      "source": [
        "## Problem 1.2 Convert the resulting data into a dataframe\n",
        "\n",
        "Expected Output:\n",
        "- Code\n",
        "- Print the output (screenshot)"
      ]
    },
    {
      "cell_type": "code",
      "execution_count": null,
      "metadata": {
        "id": "vclKl1m9Id36"
      },
      "outputs": [],
      "source": [
        "def response_to_df(response):\n",
        "    columns = []\n",
        "    rows = []\n",
        "\n",
        "    for col in response.dimension_headers:\n",
        "        columns.append(col.name)\n",
        "    for col in response.metric_headers:\n",
        "        columns.append(col.name)\n",
        "\n",
        "    for row_data in response.rows:\n",
        "        row = []\n",
        "        for val in row_data.dimension_values:\n",
        "            row.append(val.value)\n",
        "        for val in row_data.metric_values:\n",
        "            row.append(val.value)\n",
        "        rows.append(row)\n",
        "    return pd.DataFrame(rows, columns=columns)\n",
        "\n",
        "\n",
        "\n",
        "response=## Please complete the code\n",
        "df=response_to_df(response)\n",
        "print(df)"
      ]
    },
    {
      "cell_type": "markdown",
      "metadata": {
        "id": "gMyCQb_kId36"
      },
      "source": [
        "## Problem 1.3 Prepare Data\n",
        "\n",
        "Expected output:\n",
        "- code"
      ]
    },
    {
      "cell_type": "code",
      "execution_count": null,
      "metadata": {
        "id": "8maVzgZCId36"
      },
      "outputs": [],
      "source": [
        "canvas = df[df['medium'] == 'canvas']['sessions'].astype(int)\n",
        "\n",
        "announcement =## Please complete the code"
      ]
    },
    {
      "cell_type": "markdown",
      "metadata": {
        "id": "wlYNg-f7Id36"
      },
      "source": [
        "## Problem 1.4 Run Student's T-test and Welch's T-test.\n",
        "\n",
        "Expected Output:\n",
        "- Code\n",
        "- Conclusion"
      ]
    },
    {
      "cell_type": "code",
      "execution_count": null,
      "metadata": {},
      "outputs": [],
      "source": [
        "# Complete the code"
      ]
    },
    {
      "cell_type": "markdown",
      "metadata": {
        "id": "oYwbW4xUTw65"
      },
      "source": [
        "## Problem 1.5 Compare the tests and draw conclusions."
      ]
    },
    {
      "cell_type": "markdown",
      "metadata": {},
      "source": [
        "Provide your answers."
      ]
    },
    {
      "cell_type": "markdown",
      "metadata": {},
      "source": [
        "## Problem 1.6 Alternative Metric\n",
        "\n",
        "From this page (https://developers.google.com/analytics/devguides/reporting/data/v1/api-schema), choose a metric that is different from sessions. Explain why your chosen metric is of significance and run statistical tests to tell whether these two channels are different regarding your chosen metric."
      ]
    },
    {
      "cell_type": "markdown",
      "metadata": {},
      "source": [
        "Provide your answers."
      ]
    },
    {
      "cell_type": "markdown",
      "metadata": {
        "id": "RuoHcXyEId36"
      },
      "source": [
        "# Project 2\n",
        "In this project, you are asked to perform statistical tests to see whether two simulated samples have the same mean statistically."
      ]
    },
    {
      "cell_type": "markdown",
      "metadata": {
        "id": "TYdopXbfId36"
      },
      "source": [
        "## Problem 2.1\n",
        "The two samples below have the same level of variance (standard deviation=5) and sample size but different means (25 and 30).\n",
        "\n",
        "Based on the data, run both Student's t-test and Welch's t-test.\n",
        "\n",
        "Expected Output:\n",
        "- Are these two samples' means statistically different?\n",
        "- Do you get different results from Student's t-test and Welch's t-test?"
      ]
    },
    {
      "cell_type": "code",
      "execution_count": 1,
      "metadata": {
        "id": "AKUzTylJId36"
      },
      "outputs": [],
      "source": [
        "import numpy as np\n",
        "from scipy import stats\n",
        "np.random.seed(67)\n",
        "\n",
        "# Simulated data for the control group (the mean is 25, the standard deviation is 5, and the sample size is 1000)\n",
        "control_group = np.random.normal(loc=25, scale=5, size=1000) #\n",
        "\n",
        "# Simulated data for the treatment group (the mean is 30, the standard deviation is 5, and the sample size is 1000)\n",
        "treatment_group = np.random.normal(loc=30, scale=5, size=1000)"
      ]
    },
    {
      "cell_type": "code",
      "execution_count": 2,
      "metadata": {
        "colab": {
          "base_uri": "https://localhost:8080/",
          "height": 81
        },
        "id": "WZQpOHKeId36",
        "outputId": "d4e0cb75-fec9-44aa-af0e-ecebc630204d"
      },
      "outputs": [
        {
          "data": {
            "text/html": [
              "<div>\n",
              "<style scoped>\n",
              "    .dataframe tbody tr th:only-of-type {\n",
              "        vertical-align: middle;\n",
              "    }\n",
              "\n",
              "    .dataframe tbody tr th {\n",
              "        vertical-align: top;\n",
              "    }\n",
              "\n",
              "    .dataframe thead th {\n",
              "        text-align: right;\n",
              "    }\n",
              "</style>\n",
              "<table border=\"1\" class=\"dataframe\">\n",
              "  <thead>\n",
              "    <tr style=\"text-align: right;\">\n",
              "      <th></th>\n",
              "      <th>T</th>\n",
              "      <th>dof</th>\n",
              "      <th>alternative</th>\n",
              "      <th>p-val</th>\n",
              "      <th>CI95%</th>\n",
              "      <th>cohen-d</th>\n",
              "      <th>BF10</th>\n",
              "      <th>power</th>\n",
              "    </tr>\n",
              "  </thead>\n",
              "  <tbody>\n",
              "    <tr>\n",
              "      <th>T-test</th>\n",
              "      <td>23.082351</td>\n",
              "      <td>1998</td>\n",
              "      <td>two-sided</td>\n",
              "      <td>1.072302e-104</td>\n",
              "      <td>[4.75, 5.63]</td>\n",
              "      <td>1.032274</td>\n",
              "      <td>6.582e+100</td>\n",
              "      <td>NaN</td>\n",
              "    </tr>\n",
              "  </tbody>\n",
              "</table>\n",
              "</div>"
            ],
            "text/plain": [
              "                T   dof alternative          p-val         CI95%   cohen-d  \\\n",
              "T-test  23.082351  1998   two-sided  1.072302e-104  [4.75, 5.63]  1.032274   \n",
              "\n",
              "              BF10 power  \n",
              "T-test  6.582e+100   NaN  "
            ]
          },
          "execution_count": 2,
          "metadata": {},
          "output_type": "execute_result"
        }
      ],
      "source": [
        "# Student's T-test\n",
        "from pingouin import ttest\n",
        "\n",
        "ttest(treatment_group,control_group,correction=False)"
      ]
    },
    {
      "cell_type": "code",
      "execution_count": null,
      "metadata": {
        "id": "7kq0A4ZqUjCc"
      },
      "outputs": [],
      "source": [
        "# Welch's T-test\n",
        "\n",
        "# Complete your code."
      ]
    },
    {
      "cell_type": "markdown",
      "metadata": {
        "id": "sEWQZpg2Id37"
      },
      "source": [
        "## Problem 2.2\n",
        "\n",
        "The two samples below have different sample sizes, means, and variances.\n",
        "Based on the data, run both Student's t-test and Welch's t-test.\n",
        "\n",
        "Expected Output:\n",
        "- Are these two samples' means statistically different?\n",
        "- Do you get different results from Student's t-test and Welch's t-test? Which test is more reliable? Why?"
      ]
    },
    {
      "cell_type": "code",
      "execution_count": 76,
      "metadata": {
        "id": "u0wt56L1Id37"
      },
      "outputs": [],
      "source": [
        "np.random.seed(8690978)\n",
        "control_group = np.random.normal(loc=25, scale=3, size=60)\n",
        "treatment_group = np.random.normal(loc=30, scale=20, size=100)"
      ]
    },
    {
      "cell_type": "code",
      "execution_count": 79,
      "metadata": {
        "colab": {
          "base_uri": "https://localhost:8080/",
          "height": 81
        },
        "id": "zy_s7QgwId37",
        "outputId": "65b01eaa-0751-4213-f550-23a59313019f"
      },
      "outputs": [
        {
          "data": {
            "application/vnd.google.colaboratory.intrinsic+json": {
              "summary": "{\n  \"name\": \"ttest(treatment_group,control_group,correction=True)\",\n  \"rows\": 1,\n  \"fields\": [\n    {\n      \"column\": \"T\",\n      \"properties\": {\n        \"dtype\": \"number\",\n        \"std\": null,\n        \"min\": 2.081504101912334,\n        \"max\": 2.081504101912334,\n        \"num_unique_values\": 1,\n        \"samples\": [\n          2.081504101912334\n        ],\n        \"semantic_type\": \"\",\n        \"description\": \"\"\n      }\n    },\n    {\n      \"column\": \"dof\",\n      \"properties\": {\n        \"dtype\": \"number\",\n        \"std\": null,\n        \"min\": 105.10608979418778,\n        \"max\": 105.10608979418778,\n        \"num_unique_values\": 1,\n        \"samples\": [\n          105.10608979418778\n        ],\n        \"semantic_type\": \"\",\n        \"description\": \"\"\n      }\n    },\n    {\n      \"column\": \"alternative\",\n      \"properties\": {\n        \"dtype\": \"string\",\n        \"num_unique_values\": 1,\n        \"samples\": [\n          \"two-sided\"\n        ],\n        \"semantic_type\": \"\",\n        \"description\": \"\"\n      }\n    },\n    {\n      \"column\": \"p-val\",\n      \"properties\": {\n        \"dtype\": \"number\",\n        \"std\": null,\n        \"min\": 0.03981715804397063,\n        \"max\": 0.03981715804397063,\n        \"num_unique_values\": 1,\n        \"samples\": [\n          0.03981715804397063\n        ],\n        \"semantic_type\": \"\",\n        \"description\": \"\"\n      }\n    },\n    {\n      \"column\": \"CI95%\",\n      \"properties\": {\n        \"dtype\": \"object\",\n        \"semantic_type\": \"\",\n        \"description\": \"\"\n      }\n    },\n    {\n      \"column\": \"cohen-d\",\n      \"properties\": {\n        \"dtype\": \"number\",\n        \"std\": null,\n        \"min\": 0.2655541795290949,\n        \"max\": 0.2655541795290949,\n        \"num_unique_values\": 1,\n        \"samples\": [\n          0.2655541795290949\n        ],\n        \"semantic_type\": \"\",\n        \"description\": \"\"\n      }\n    },\n    {\n      \"column\": \"BF10\",\n      \"properties\": {\n        \"dtype\": \"string\",\n        \"num_unique_values\": 1,\n        \"samples\": [\n          \"1.268\"\n        ],\n        \"semantic_type\": \"\",\n        \"description\": \"\"\n      }\n    },\n    {\n      \"column\": \"power\",\n      \"properties\": {\n        \"dtype\": \"number\",\n        \"std\": null,\n        \"min\": 0.3657228970530058,\n        \"max\": 0.3657228970530058,\n        \"num_unique_values\": 1,\n        \"samples\": [\n          0.3657228970530058\n        ],\n        \"semantic_type\": \"\",\n        \"description\": \"\"\n      }\n    }\n  ]\n}",
              "type": "dataframe"
            },
            "text/html": [
              "\n",
              "  <div id=\"df-e9434b58-62a2-476e-bd60-704aa79acbc2\" class=\"colab-df-container\">\n",
              "    <div>\n",
              "<style scoped>\n",
              "    .dataframe tbody tr th:only-of-type {\n",
              "        vertical-align: middle;\n",
              "    }\n",
              "\n",
              "    .dataframe tbody tr th {\n",
              "        vertical-align: top;\n",
              "    }\n",
              "\n",
              "    .dataframe thead th {\n",
              "        text-align: right;\n",
              "    }\n",
              "</style>\n",
              "<table border=\"1\" class=\"dataframe\">\n",
              "  <thead>\n",
              "    <tr style=\"text-align: right;\">\n",
              "      <th></th>\n",
              "      <th>T</th>\n",
              "      <th>dof</th>\n",
              "      <th>alternative</th>\n",
              "      <th>p-val</th>\n",
              "      <th>CI95%</th>\n",
              "      <th>cohen-d</th>\n",
              "      <th>BF10</th>\n",
              "      <th>power</th>\n",
              "    </tr>\n",
              "  </thead>\n",
              "  <tbody>\n",
              "    <tr>\n",
              "      <th>T-test</th>\n",
              "      <td>2.081504</td>\n",
              "      <td>105.10609</td>\n",
              "      <td>two-sided</td>\n",
              "      <td>0.039817</td>\n",
              "      <td>[0.22, 8.88]</td>\n",
              "      <td>0.265554</td>\n",
              "      <td>1.268</td>\n",
              "      <td>0.365723</td>\n",
              "    </tr>\n",
              "  </tbody>\n",
              "</table>\n",
              "</div>\n",
              "    <div class=\"colab-df-buttons\">\n",
              "\n",
              "  <div class=\"colab-df-container\">\n",
              "    <button class=\"colab-df-convert\" onclick=\"convertToInteractive('df-e9434b58-62a2-476e-bd60-704aa79acbc2')\"\n",
              "            title=\"Convert this dataframe to an interactive table.\"\n",
              "            style=\"display:none;\">\n",
              "\n",
              "  <svg xmlns=\"http://www.w3.org/2000/svg\" height=\"24px\" viewBox=\"0 -960 960 960\">\n",
              "    <path d=\"M120-120v-720h720v720H120Zm60-500h600v-160H180v160Zm220 220h160v-160H400v160Zm0 220h160v-160H400v160ZM180-400h160v-160H180v160Zm440 0h160v-160H620v160ZM180-180h160v-160H180v160Zm440 0h160v-160H620v160Z\"/>\n",
              "  </svg>\n",
              "    </button>\n",
              "\n",
              "  <style>\n",
              "    .colab-df-container {\n",
              "      display:flex;\n",
              "      gap: 12px;\n",
              "    }\n",
              "\n",
              "    .colab-df-convert {\n",
              "      background-color: #E8F0FE;\n",
              "      border: none;\n",
              "      border-radius: 50%;\n",
              "      cursor: pointer;\n",
              "      display: none;\n",
              "      fill: #1967D2;\n",
              "      height: 32px;\n",
              "      padding: 0 0 0 0;\n",
              "      width: 32px;\n",
              "    }\n",
              "\n",
              "    .colab-df-convert:hover {\n",
              "      background-color: #E2EBFA;\n",
              "      box-shadow: 0px 1px 2px rgba(60, 64, 67, 0.3), 0px 1px 3px 1px rgba(60, 64, 67, 0.15);\n",
              "      fill: #174EA6;\n",
              "    }\n",
              "\n",
              "    .colab-df-buttons div {\n",
              "      margin-bottom: 4px;\n",
              "    }\n",
              "\n",
              "    [theme=dark] .colab-df-convert {\n",
              "      background-color: #3B4455;\n",
              "      fill: #D2E3FC;\n",
              "    }\n",
              "\n",
              "    [theme=dark] .colab-df-convert:hover {\n",
              "      background-color: #434B5C;\n",
              "      box-shadow: 0px 1px 3px 1px rgba(0, 0, 0, 0.15);\n",
              "      filter: drop-shadow(0px 1px 2px rgba(0, 0, 0, 0.3));\n",
              "      fill: #FFFFFF;\n",
              "    }\n",
              "  </style>\n",
              "\n",
              "    <script>\n",
              "      const buttonEl =\n",
              "        document.querySelector('#df-e9434b58-62a2-476e-bd60-704aa79acbc2 button.colab-df-convert');\n",
              "      buttonEl.style.display =\n",
              "        google.colab.kernel.accessAllowed ? 'block' : 'none';\n",
              "\n",
              "      async function convertToInteractive(key) {\n",
              "        const element = document.querySelector('#df-e9434b58-62a2-476e-bd60-704aa79acbc2');\n",
              "        const dataTable =\n",
              "          await google.colab.kernel.invokeFunction('convertToInteractive',\n",
              "                                                    [key], {});\n",
              "        if (!dataTable) return;\n",
              "\n",
              "        const docLinkHtml = 'Like what you see? Visit the ' +\n",
              "          '<a target=\"_blank\" href=https://colab.research.google.com/notebooks/data_table.ipynb>data table notebook</a>'\n",
              "          + ' to learn more about interactive tables.';\n",
              "        element.innerHTML = '';\n",
              "        dataTable['output_type'] = 'display_data';\n",
              "        await google.colab.output.renderOutput(dataTable, element);\n",
              "        const docLink = document.createElement('div');\n",
              "        docLink.innerHTML = docLinkHtml;\n",
              "        element.appendChild(docLink);\n",
              "      }\n",
              "    </script>\n",
              "  </div>\n",
              "\n",
              "\n",
              "    </div>\n",
              "  </div>\n"
            ],
            "text/plain": [
              "               T        dof alternative     p-val         CI95%   cohen-d  \\\n",
              "T-test  2.081504  105.10609   two-sided  0.039817  [0.22, 8.88]  0.265554   \n",
              "\n",
              "         BF10     power  \n",
              "T-test  1.268  0.365723  "
            ]
          },
          "execution_count": 79,
          "metadata": {},
          "output_type": "execute_result"
        }
      ],
      "source": [
        "from pingouin import ttest\n",
        "\n",
        "ttest(treatment_group,control_group,correction=True)"
      ]
    },
    {
      "cell_type": "code",
      "execution_count": null,
      "metadata": {
        "colab": {
          "base_uri": "https://localhost:8080/",
          "height": 81
        },
        "id": "ZzI0VERQId37",
        "outputId": "9ba05474-3be4-4f1a-f00c-260a9470913f"
      },
      "outputs": [
        {
          "data": {
            "application/vnd.google.colaboratory.intrinsic+json": {
              "summary": "{\n  \"name\": \"ttest(treatment_group,control_group,correction=False)\",\n  \"rows\": 1,\n  \"fields\": [\n    {\n      \"column\": \"T\",\n      \"properties\": {\n        \"dtype\": \"number\",\n        \"std\": null,\n        \"min\": 1.6261805972743013,\n        \"max\": 1.6261805972743013,\n        \"num_unique_values\": 1,\n        \"samples\": [\n          1.6261805972743013\n        ],\n        \"semantic_type\": \"\",\n        \"description\": \"\"\n      }\n    },\n    {\n      \"column\": \"dof\",\n      \"properties\": {\n        \"dtype\": \"number\",\n        \"std\": null,\n        \"min\": 158,\n        \"max\": 158,\n        \"num_unique_values\": 1,\n        \"samples\": [\n          158\n        ],\n        \"semantic_type\": \"\",\n        \"description\": \"\"\n      }\n    },\n    {\n      \"column\": \"alternative\",\n      \"properties\": {\n        \"dtype\": \"string\",\n        \"num_unique_values\": 1,\n        \"samples\": [\n          \"two-sided\"\n        ],\n        \"semantic_type\": \"\",\n        \"description\": \"\"\n      }\n    },\n    {\n      \"column\": \"p-val\",\n      \"properties\": {\n        \"dtype\": \"number\",\n        \"std\": null,\n        \"min\": 0.1059040998267524,\n        \"max\": 0.1059040998267524,\n        \"num_unique_values\": 1,\n        \"samples\": [\n          0.1059040998267524\n        ],\n        \"semantic_type\": \"\",\n        \"description\": \"\"\n      }\n    },\n    {\n      \"column\": \"CI95%\",\n      \"properties\": {\n        \"dtype\": \"object\",\n        \"semantic_type\": \"\",\n        \"description\": \"\"\n      }\n    },\n    {\n      \"column\": \"cohen-d\",\n      \"properties\": {\n        \"dtype\": \"number\",\n        \"std\": null,\n        \"min\": 0.2655541795290949,\n        \"max\": 0.2655541795290949,\n        \"num_unique_values\": 1,\n        \"samples\": [\n          0.2655541795290949\n        ],\n        \"semantic_type\": \"\",\n        \"description\": \"\"\n      }\n    },\n    {\n      \"column\": \"BF10\",\n      \"properties\": {\n        \"dtype\": \"string\",\n        \"num_unique_values\": 1,\n        \"samples\": [\n          \"0.589\"\n        ],\n        \"semantic_type\": \"\",\n        \"description\": \"\"\n      }\n    },\n    {\n      \"column\": \"power\",\n      \"properties\": {\n        \"dtype\": \"number\",\n        \"std\": null,\n        \"min\": 0.3657228970530058,\n        \"max\": 0.3657228970530058,\n        \"num_unique_values\": 1,\n        \"samples\": [\n          0.3657228970530058\n        ],\n        \"semantic_type\": \"\",\n        \"description\": \"\"\n      }\n    }\n  ]\n}",
              "type": "dataframe"
            },
            "text/html": [
              "\n",
              "  <div id=\"df-3a4bff5d-679b-4712-8ae1-934eb3d6b531\" class=\"colab-df-container\">\n",
              "    <div>\n",
              "<style scoped>\n",
              "    .dataframe tbody tr th:only-of-type {\n",
              "        vertical-align: middle;\n",
              "    }\n",
              "\n",
              "    .dataframe tbody tr th {\n",
              "        vertical-align: top;\n",
              "    }\n",
              "\n",
              "    .dataframe thead th {\n",
              "        text-align: right;\n",
              "    }\n",
              "</style>\n",
              "<table border=\"1\" class=\"dataframe\">\n",
              "  <thead>\n",
              "    <tr style=\"text-align: right;\">\n",
              "      <th></th>\n",
              "      <th>T</th>\n",
              "      <th>dof</th>\n",
              "      <th>alternative</th>\n",
              "      <th>p-val</th>\n",
              "      <th>CI95%</th>\n",
              "      <th>cohen-d</th>\n",
              "      <th>BF10</th>\n",
              "      <th>power</th>\n",
              "    </tr>\n",
              "  </thead>\n",
              "  <tbody>\n",
              "    <tr>\n",
              "      <th>T-test</th>\n",
              "      <td>1.626181</td>\n",
              "      <td>158</td>\n",
              "      <td>two-sided</td>\n",
              "      <td>0.105904</td>\n",
              "      <td>[-0.98, 10.07]</td>\n",
              "      <td>0.265554</td>\n",
              "      <td>0.589</td>\n",
              "      <td>0.365723</td>\n",
              "    </tr>\n",
              "  </tbody>\n",
              "</table>\n",
              "</div>\n",
              "    <div class=\"colab-df-buttons\">\n",
              "\n",
              "  <div class=\"colab-df-container\">\n",
              "    <button class=\"colab-df-convert\" onclick=\"convertToInteractive('df-3a4bff5d-679b-4712-8ae1-934eb3d6b531')\"\n",
              "            title=\"Convert this dataframe to an interactive table.\"\n",
              "            style=\"display:none;\">\n",
              "\n",
              "  <svg xmlns=\"http://www.w3.org/2000/svg\" height=\"24px\" viewBox=\"0 -960 960 960\">\n",
              "    <path d=\"M120-120v-720h720v720H120Zm60-500h600v-160H180v160Zm220 220h160v-160H400v160Zm0 220h160v-160H400v160ZM180-400h160v-160H180v160Zm440 0h160v-160H620v160ZM180-180h160v-160H180v160Zm440 0h160v-160H620v160Z\"/>\n",
              "  </svg>\n",
              "    </button>\n",
              "\n",
              "  <style>\n",
              "    .colab-df-container {\n",
              "      display:flex;\n",
              "      gap: 12px;\n",
              "    }\n",
              "\n",
              "    .colab-df-convert {\n",
              "      background-color: #E8F0FE;\n",
              "      border: none;\n",
              "      border-radius: 50%;\n",
              "      cursor: pointer;\n",
              "      display: none;\n",
              "      fill: #1967D2;\n",
              "      height: 32px;\n",
              "      padding: 0 0 0 0;\n",
              "      width: 32px;\n",
              "    }\n",
              "\n",
              "    .colab-df-convert:hover {\n",
              "      background-color: #E2EBFA;\n",
              "      box-shadow: 0px 1px 2px rgba(60, 64, 67, 0.3), 0px 1px 3px 1px rgba(60, 64, 67, 0.15);\n",
              "      fill: #174EA6;\n",
              "    }\n",
              "\n",
              "    .colab-df-buttons div {\n",
              "      margin-bottom: 4px;\n",
              "    }\n",
              "\n",
              "    [theme=dark] .colab-df-convert {\n",
              "      background-color: #3B4455;\n",
              "      fill: #D2E3FC;\n",
              "    }\n",
              "\n",
              "    [theme=dark] .colab-df-convert:hover {\n",
              "      background-color: #434B5C;\n",
              "      box-shadow: 0px 1px 3px 1px rgba(0, 0, 0, 0.15);\n",
              "      filter: drop-shadow(0px 1px 2px rgba(0, 0, 0, 0.3));\n",
              "      fill: #FFFFFF;\n",
              "    }\n",
              "  </style>\n",
              "\n",
              "    <script>\n",
              "      const buttonEl =\n",
              "        document.querySelector('#df-3a4bff5d-679b-4712-8ae1-934eb3d6b531 button.colab-df-convert');\n",
              "      buttonEl.style.display =\n",
              "        google.colab.kernel.accessAllowed ? 'block' : 'none';\n",
              "\n",
              "      async function convertToInteractive(key) {\n",
              "        const element = document.querySelector('#df-3a4bff5d-679b-4712-8ae1-934eb3d6b531');\n",
              "        const dataTable =\n",
              "          await google.colab.kernel.invokeFunction('convertToInteractive',\n",
              "                                                    [key], {});\n",
              "        if (!dataTable) return;\n",
              "\n",
              "        const docLinkHtml = 'Like what you see? Visit the ' +\n",
              "          '<a target=\"_blank\" href=https://colab.research.google.com/notebooks/data_table.ipynb>data table notebook</a>'\n",
              "          + ' to learn more about interactive tables.';\n",
              "        element.innerHTML = '';\n",
              "        dataTable['output_type'] = 'display_data';\n",
              "        await google.colab.output.renderOutput(dataTable, element);\n",
              "        const docLink = document.createElement('div');\n",
              "        docLink.innerHTML = docLinkHtml;\n",
              "        element.appendChild(docLink);\n",
              "      }\n",
              "    </script>\n",
              "  </div>\n",
              "\n",
              "\n",
              "    </div>\n",
              "  </div>\n"
            ],
            "text/plain": [
              "               T  dof alternative     p-val           CI95%   cohen-d   BF10  \\\n",
              "T-test  1.626181  158   two-sided  0.105904  [-0.98, 10.07]  0.265554  0.589   \n",
              "\n",
              "           power  \n",
              "T-test  0.365723  "
            ]
          },
          "execution_count": 80,
          "metadata": {},
          "output_type": "execute_result"
        }
      ],
      "source": [
        "# Welch's T-test\n",
        "\n",
        "# Complete your code."
      ]
    },
    {
      "cell_type": "markdown",
      "metadata": {},
      "source": [
        "> Answers to this question:  \n",
        "Do you get different results from Student's t-test and Welch's t-test? Which test is more reliable? Why?"
      ]
    }
  ],
  "metadata": {
    "colab": {
      "provenance": []
    },
    "kernelspec": {
      "display_name": "Python 3",
      "language": "python",
      "name": "python3"
    },
    "language_info": {
      "codemirror_mode": {
        "name": "ipython",
        "version": 3
      },
      "file_extension": ".py",
      "mimetype": "text/x-python",
      "name": "python",
      "nbconvert_exporter": "python",
      "pygments_lexer": "ipython3",
      "version": "3.12.7"
    }
  },
  "nbformat": 4,
  "nbformat_minor": 0
}
