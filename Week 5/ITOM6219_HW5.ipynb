{
  "cells": [
    {
      "cell_type": "code",
      "execution_count": null,
      "metadata": {
        "id": "gaJkhzPIId34"
      },
      "outputs": [],
      "source": [
        "# Homework 5 - AB Test"
      ]
    },
    {
      "cell_type": "code",
      "execution_count": null,
      "metadata": {
        "id": "Th55Jz17Id35"
      },
      "outputs": [],
      "source": [
        "!pip3 install google.analytics.data\n",
        "!pip3 install pingouin"
      ]
    },
    {
      "cell_type": "code",
      "execution_count": null,
      "metadata": {
        "id": "ke_mnjupId35"
      },
      "outputs": [],
      "source": [
        "from google.analytics.data_v1beta import BetaAnalyticsDataClient\n",
        "from google.analytics.data_v1beta.types import (\n",
        "    DateRange,\n",
        "    Dimension,\n",
        "    Metric,\n",
        "    RunReportRequest,\n",
        "    Filter,\n",
        "    FilterExpression,\n",
        ")\n",
        "import os\n",
        "import pandas as pd\n",
        "import json\n",
        "import scipy.stats as st\n",
        "import numpy as np\n",
        "from pingouin import ttest\n",
        "from google.colab import userdata\n"
      ]
    },
    {
      "cell_type": "markdown",
      "metadata": {
        "id": "OHKDxZ70Id35"
      },
      "source": [
        "# Project 1\n",
        "Compare the session numbers for the two campaigns: one with medium being \"announcement\" and the other with medium being \"canvas\". Perform statistical tests to compare the difference.\n",
        "\n",
        "Please make sure to upload the json file to the working folder.\n",
        "Add a secret key:\n",
        "- Name: GOOGLE_CREDENTIALS_PATH\n",
        "- Value: name of the json file."
      ]
    },
    {
      "cell_type": "markdown",
      "metadata": {
        "id": "xHHLHtI7Id36"
      },
      "source": [
        "## Problem 1.1\n",
        "\n",
        "Construct the function sample_run_report:\n",
        "- keep dimensions: source, medium, campaignName, date\n",
        "- keep metric: sessions\n",
        "- date range: start_date=\"2025-01-01\", end_date=\"today\"\n",
        "- property_id=\"424145747\" (This is Jane's app).\n",
        "\n",
        "Expected output:\n",
        "\n",
        "-code"
      ]
    },
    {
      "cell_type": "code",
      "execution_count": null,
      "metadata": {
        "id": "LAgDYsvHId36"
      },
      "outputs": [],
      "source": [
        "def sample_run_report(property_id=\"424145747\"):\n",
        "    \"\"\"Runs a simple report on a Google Analytics 4 property.\"\"\"\n",
        "    os.environ['GOOGLE_APPLICATION_CREDENTIALS'] = userdata.get('GOOGLE_CREDENTIALS_PATH')\n",
        "    client = BetaAnalyticsDataClient()\n",
        "    request = RunReportRequest(\n",
        "        property=\"properties/{}\".format(property_id),\n",
        "        dimensions=## Please complete the code\n",
        "        metrics=## Please complete the code\n",
        "        date_ranges=[DateRange(start_date=\"2025-01-01\", end_date=\"today\")],\n",
        "    )\n",
        "    response = client.run_report(request)\n",
        "    return response"
      ]
    },
    {
      "cell_type": "markdown",
      "metadata": {
        "id": "Dk4npqzuId36"
      },
      "source": [
        "## Problem 1.2 Convert the resulting data into a dataframe\n",
        "\n",
        "Expected Output:\n",
        "- Code\n",
        "- Print the output (screenshot)"
      ]
    },
    {
      "cell_type": "code",
      "execution_count": null,
      "metadata": {
        "id": "vclKl1m9Id36"
      },
      "outputs": [],
      "source": [
        "def response_to_df(response):\n",
        "    columns = []\n",
        "    rows = []\n",
        "\n",
        "    for col in response.dimension_headers:\n",
        "        columns.append(col.name)\n",
        "    for col in response.metric_headers:\n",
        "        columns.append(col.name)\n",
        "\n",
        "    for row_data in response.rows:\n",
        "        row = []\n",
        "        for val in row_data.dimension_values:\n",
        "            row.append(val.value)\n",
        "        for val in row_data.metric_values:\n",
        "            row.append(val.value)\n",
        "        rows.append(row)\n",
        "    return pd.DataFrame(rows, columns=columns)\n",
        "\n",
        "\n",
        "\n",
        "response=## Please complete the code\n",
        "df=response_to_df(response)\n",
        "print(df)"
      ]
    },
    {
      "cell_type": "markdown",
      "metadata": {
        "id": "gMyCQb_kId36"
      },
      "source": [
        "## Problem 1.3 Prepare Data\n",
        "\n",
        "Expected output:\n",
        "- code"
      ]
    },
    {
      "cell_type": "code",
      "execution_count": null,
      "metadata": {
        "id": "8maVzgZCId36"
      },
      "outputs": [],
      "source": [
        "canvas = df[df['medium'] == 'canvas']['sessions'].astype(int)\n",
        "\n",
        "announcement =## Please complete the code"
      ]
    },
    {
      "cell_type": "markdown",
      "metadata": {
        "id": "wlYNg-f7Id36"
      },
      "source": [
        "## Problem 1.4 Run Student's T-test and Welch's T-test.\n",
        "\n",
        "Expected Output:\n",
        "- Code\n",
        "- Conclusion"
      ]
    },
    {
      "cell_type": "code",
      "execution_count": null,
      "metadata": {},
      "outputs": [],
      "source": [
        "# Complete the code"
      ]
    },
    {
      "cell_type": "markdown",
      "metadata": {
        "id": "oYwbW4xUTw65"
      },
      "source": [
        "## Problem 1.5 Compare the tests and draw conclusions."
      ]
    },
    {
      "cell_type": "markdown",
      "metadata": {},
      "source": [
        "Provide your answers."
      ]
    },
    {
      "cell_type": "markdown",
      "metadata": {},
      "source": [
        "## Problem 1.6 Alternative Metric\n",
        "\n",
        "From this page (https://developers.google.com/analytics/devguides/reporting/data/v1/api-schema), choose a metric that is different from sessions. Explain why your chosen metric is of significance and run statistical tests to tell whether these two channels are different regarding your chosen metric."
      ]
    },
    {
      "cell_type": "markdown",
      "metadata": {},
      "source": [
        "Provide your answers."
      ]
    },
    {
      "cell_type": "markdown",
      "metadata": {
        "id": "RuoHcXyEId36"
      },
      "source": [
        "# Project 2\n",
        "In this project, you are asked to perform statistical tests to see whether two simulated samples have the same mean statistically."
      ]
    },
    {
      "cell_type": "markdown",
      "metadata": {
        "id": "TYdopXbfId36"
      },
      "source": [
        "## Problem 2.1\n",
        "The two samples below have the same level of variance (standard deviation=5) and sample size but different means (25 and 30).\n",
        "\n",
        "Based on the data, run both Student's t-test and Welch's t-test.\n",
        "\n",
        "Expected Output:\n",
        "- Are these two samples' means statistically different?\n",
        "- Do you get different results from Student's t-test and Welch's t-test?"
      ]
    },
    {
      "cell_type": "code",
      "execution_count": null,
      "metadata": {
        "id": "AKUzTylJId36"
      },
      "outputs": [],
      "source": [
        "import numpy as np\n",
        "from scipy import stats\n",
        "np.random.seed(67)\n",
        "\n",
        "# Simulated data for the control group (the mean is 25, the standard deviation is 5, and the sample size is 1000)\n",
        "control_group = np.random.normal(loc=25, scale=5, size=1000) #\n",
        "\n",
        "# Simulated data for the treatment group (the mean is 30, the standard deviation is 5, and the sample size is 1000)\n",
        "treatment_group = np.random.normal(loc=30, scale=5, size=1000)"
      ]
    },
    {
      "cell_type": "code",
      "execution_count": null,
      "metadata": {
        "colab": {
          "base_uri": "https://localhost:8080/",
          "height": 81
        },
        "id": "WZQpOHKeId36",
        "outputId": "d4e0cb75-fec9-44aa-af0e-ecebc630204d"
      },
      "outputs": [],
      "source": [
        "# Student's T-test\n",
        "from pingouin import ttest\n",
        "\n",
        "ttest(treatment_group,control_group,correction=False)"
      ]
    },
    {
      "cell_type": "code",
      "execution_count": null,
      "metadata": {
        "id": "7kq0A4ZqUjCc"
      },
      "outputs": [],
      "source": [
        "# Welch's T-test\n",
        "\n",
        "# Complete your code."
      ]
    },
    {
      "cell_type": "markdown",
      "metadata": {
        "id": "sEWQZpg2Id37"
      },
      "source": [
        "## Problem 2.2\n",
        "\n",
        "The two samples below have different sample sizes, means, and variances.\n",
        "Based on the data, run both Student's t-test and Welch's t-test.\n",
        "\n",
        "Expected Output:\n",
        "- Are these two samples' means statistically different?\n",
        "- Do you get different results from Student's t-test and Welch's t-test? Which test is more reliable? Why?"
      ]
    },
    {
      "cell_type": "code",
      "execution_count": null,
      "metadata": {
        "id": "u0wt56L1Id37"
      },
      "outputs": [],
      "source": [
        "np.random.seed(8690978)\n",
        "control_group = np.random.normal(loc=25, scale=3, size=60)\n",
        "treatment_group = np.random.normal(loc=30, scale=20, size=100)"
      ]
    },
    {
      "cell_type": "code",
      "execution_count": null,
      "metadata": {
        "colab": {
          "base_uri": "https://localhost:8080/",
          "height": 81
        },
        "id": "zy_s7QgwId37",
        "outputId": "65b01eaa-0751-4213-f550-23a59313019f"
      },
      "outputs": [],
      "source": [
        "# Student's T-test\n",
        "from pingouin import ttest\n",
        "ttest(treatment_group,control_group,correction=False)"
      ]
    },
    {
      "cell_type": "code",
      "execution_count": null,
      "metadata": {
        "colab": {
          "base_uri": "https://localhost:8080/",
          "height": 81
        },
        "id": "ZzI0VERQId37",
        "outputId": "9ba05474-3be4-4f1a-f00c-260a9470913f"
      },
      "outputs": [],
      "source": [
        "# Welch's T-test\n",
        "\n",
        "# Complete your code."
      ]
    },
    {
      "cell_type": "markdown",
      "metadata": {},
      "source": [
        "> Answers to this question:  \n",
        "Do you get different results from Student's t-test and Welch's t-test? Which test is more reliable? Why?"
      ]
    }
  ],
  "metadata": {
    "colab": {
      "provenance": []
    },
    "kernelspec": {
      "display_name": "Python 3",
      "language": "python",
      "name": "python3"
    },
    "language_info": {
      "codemirror_mode": {
        "name": "ipython",
        "version": 3
      },
      "file_extension": ".py",
      "mimetype": "text/x-python",
      "name": "python",
      "nbconvert_exporter": "python",
      "pygments_lexer": "ipython3",
      "version": "3.9.6"
    }
  },
  "nbformat": 4,
  "nbformat_minor": 0
}
