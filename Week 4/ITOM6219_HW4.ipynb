{
 "cells": [
  {
   "cell_type": "code",
   "execution_count": null,
   "metadata": {},
   "outputs": [],
   "source": [
    "import requests\n",
    "import os\n",
    "import json\n",
    "import pandas as pd\n",
    "import networkx as nx"
   ]
  },
  {
   "cell_type": "markdown",
   "metadata": {},
   "source": [
    "# Project 1: Nike\n",
    "\n",
    "On Facebook, business pages can \"like\" other pages, and a directed network could be derived from this liking relationship. Jane collected all the pages liked by Nike and the linking relationships among these pages. This results in two datesets:\n",
    "- facebook_node_attributes.csv\n",
    "- facebook_data.csv\n",
    "\n",
    "The first dataset includes page attributes and the second data contains the edgelist information. We visualized this network in class, and will continue to explore how these network attributes, together with other node-level attributes, could be used for predictive purposes.\n",
    "\n",
    "\n"
   ]
  },
  {
   "cell_type": "markdown",
   "metadata": {},
   "source": [
    "## Problem 1.1\n",
    "Generate a subgraph with nodes that have more than 80,000,000 fan count. Visualize this network with node labels and upload the network graph. Make sure to use kamada_kawai_layout as the layout algorithm."
   ]
  },
  {
   "cell_type": "code",
   "execution_count": null,
   "metadata": {},
   "outputs": [],
   "source": [
    "edgelist=pd.read_csv('facebook_data.csv')\n",
    "G=nx.from_pandas_edgelist(\n",
    "# complete the code\n",
    "\n",
    ") # No need to add create_using=nx.DiGraph() if it is an undirected graph\n",
    "\n",
    "nx.draw(G, with_labels=False, node_size=5,node_color='skyblue',width=0.5, edge_color='gray',pos= nx.kamada_kawai_layout(G))\n"
   ]
  },
  {
   "cell_type": "code",
   "execution_count": null,
   "metadata": {},
   "outputs": [],
   "source": [
    "# Calculate eigenvector centrality\n",
    "eigenvector_centrality =  #complete the code\n",
    "# Calculate in-degree centrality\n",
    "in_degree_centrality =  #complete the code\n",
    "# Calculate out-degree centrality\n",
    "out_degree_centrality =  #complete the code\n",
    "# Calculate betweenness centrality\n",
    "betweenness_centrality =  #complete the code\n",
    "# Calculate closeness centrality\n",
    "closeness_centrality =  #complete the code\n",
    "# Save node attributes.\n",
    "nx.set_node_attributes(G, eigenvector_centrality, 'eigenvector_centrality')\n",
    "nx.set_node_attributes(\n",
    "    #complete the code\n",
    ")\n",
    "nx.set_node_attributes(\n",
    "    #complete the code\n",
    ")\n",
    "nx.set_node_attributes(\n",
    "    #complete the code\n",
    ")\n",
    "nx.set_node_attributes(\n",
    "    #complete the code\n",
    ")"
   ]
  },
  {
   "cell_type": "code",
   "execution_count": null,
   "metadata": {},
   "outputs": [],
   "source": [
    "node_attribute=pd.read_csv('facebook_node_attributes.csv')\n",
    "\n",
    "for index, row in node_attribute.iterrows():\n",
    "    ## Complete the code"
   ]
  },
  {
   "cell_type": "code",
   "execution_count": null,
   "metadata": {},
   "outputs": [],
   "source": [
    "attributes_list=[]\n",
    "for node, attributes in G.nodes(data=True):\n",
    "    attributes_list.append(attributes)\n",
    "\n",
    "attributes_df=pd.DataFrame(attributes_list)\n"
   ]
  },
  {
   "cell_type": "code",
   "execution_count": null,
   "metadata": {},
   "outputs": [],
   "source": [
    "nodes = (\n",
    "    node\n",
    "    for node, data\n",
    "    in G.nodes(data=True)\n",
    "    if  ## Complete the code\n",
    ")\n",
    "subgraph = ## complete the code\n",
    "\n",
    "nx.draw(\n",
    "    #complete the code\n",
    ")\n"
   ]
  },
  {
   "cell_type": "code",
   "execution_count": null,
   "metadata": {},
   "outputs": [],
   "source": [
    "attributes_list=[]\n",
    "for node, attributes in subgraph.nodes(data=True):\n",
    "    # complete the code\n",
    "attributes_df=pd.DataFrame(attributes_list)\n",
    "attributes_df"
   ]
  },
  {
   "cell_type": "markdown",
   "metadata": {},
   "source": [
    "## Problem 1.2\n",
    "For this subgraph, generate a dataframe to save all attributes of the nodes. Copy the code here. Then, using network centrality measures as support to discuss who Nike should hire as spokesperson if Nike focuses not only on fan count but also network centrality."
   ]
  },
  {
   "cell_type": "code",
   "execution_count": null,
   "metadata": {},
   "outputs": [],
   "source": []
  },
  {
   "cell_type": "markdown",
   "metadata": {},
   "source": [
    "# Project 2: Bright Kite\n",
    "Brightkite was a location-based social networking website. Users were able to \"check in\" at places by using text messaging or one of the mobile applications and they were able to see who is nearby and who has been there before. The source of the data is [here](https://snap.stanford.edu/data/loc-brightkite.html)."
   ]
  },
  {
   "cell_type": "markdown",
   "metadata": {},
   "source": [
    "## Problem 2.1 \n",
    "Generate a network using connections on BrightKite and display the network. Note that this is an undirected network and we need to remove ```create_using=nx.DiGraph()``` when generating this network. Upload your network graph below."
   ]
  },
  {
   "cell_type": "code",
   "execution_count": null,
   "metadata": {},
   "outputs": [],
   "source": [
    "edgelist=pd.read_csv('brightkite_edgelist.csv')\n",
    "edgelist"
   ]
  },
  {
   "cell_type": "code",
   "execution_count": null,
   "metadata": {},
   "outputs": [],
   "source": [
    "G=nx.from_pandas_edgelist(\n",
    "    #complete the code\n",
    "                            ) # No need to add create_using=nx.DiGraph() if it is an undirected graph\n",
    "\n",
    "nx.draw(G, with_labels=False, node_size=5,node_color='skyblue',width=0.5, edge_color='gray',pos= nx.kamada_kawai_layout(G))"
   ]
  },
  {
   "cell_type": "markdown",
   "metadata": {},
   "source": [
    "## Problem 2.2\n",
    "Generate centrality measures and add these network attributes to the network. Note that for undirected network, in-degree and out-degree are the same. We generate degree centrality by using ```degree_centrality = nx.degree_centrality(G)```. \n",
    "\n",
    "Then, import brightkite_checkins.csv and add external attributes of \"checkins\" to the network as a new network attribute. We further include node name as an additional feature by using the following code:\n",
    "```\n",
    "for node in G.nodes():\n",
    "    G.nodes[node]['name'] = node\n",
    "```\n",
    "Finally, save all node-level attributes into a dataframe and print this dataframe. Copy your code below.\n",
    "\n"
   ]
  },
  {
   "cell_type": "code",
   "execution_count": null,
   "metadata": {},
   "outputs": [],
   "source": [
    "# Calculate eigenvector centrality\n",
    "eigenvector_centrality = #complete the code\n",
    "# Calculate in-degree centrality\n",
    "degree_centrality = #complete the code\n",
    "# Calculate out-degree centrality\n",
    "betweenness_centrality = #complete the code\n",
    "# Calculate closeness centrality\n",
    "closeness_centrality = #complete the code\n",
    "# Save node attributes.\n",
    "nx.set_node_attributes(\n",
    "    #complete the code\n",
    ")\n",
    "nx.set_node_attributes(\n",
    "    #complete the code\n",
    ")\n",
    "nx.set_node_attributes(\n",
    "    #complete the code\n",
    ")\n",
    "nx.set_node_attributes(\n",
    "    #complete the code\n",
    ")\n",
    "\n",
    " "
   ]
  },
  {
   "cell_type": "markdown",
   "metadata": {},
   "source": [
    "Import the checkin data"
   ]
  },
  {
   "cell_type": "code",
   "execution_count": null,
   "metadata": {},
   "outputs": [],
   "source": [
    "node_attribute=pd.read_csv(\"brightkite_checkins.csv\")\n",
    "\n",
    "for index, row in node_attribute.iterrows():\n",
    "    node_id = int(row['node'])\n",
    "    attributes = row.drop(['node']).to_dict()  # Convert row to dictionary excluding node_id\n",
    "    nx.set_node_attributes(G, {node_id: attributes})"
   ]
  },
  {
   "cell_type": "markdown",
   "metadata": {},
   "source": [
    "Save node attributes into a dataframe"
   ]
  },
  {
   "cell_type": "code",
   "execution_count": null,
   "metadata": {},
   "outputs": [],
   "source": [
    "attributes_list=[]\n",
    "for node, attributes in G.nodes(data=True):\n",
    "    print(node)\n",
    "    print(attributes)\n",
    "    attributes_list.append(attributes)\n",
    "\n",
    "attributes_df=pd.DataFrame(attributes_list)\n",
    "attributes_df"
   ]
  },
  {
   "cell_type": "markdown",
   "metadata": {},
   "source": [
    "## Problem 2.3\n",
    "If the platform wants to incentivize power users to checkin more frequently, which users should be targeted? The code below could help you sort the dataframe based on a specific column.\n",
    "\n",
    "```attributes_df.sort_values(by='eigenvector_centrality')```"
   ]
  },
  {
   "cell_type": "code",
   "execution_count": null,
   "metadata": {},
   "outputs": [],
   "source": []
  },
  {
   "cell_type": "markdown",
   "metadata": {},
   "source": [
    "## Problem 2.4 \n",
    "Generate a subgraph for nodes with eigenvector centrality higher than 0.1. Plot the network and upload the network graph."
   ]
  },
  {
   "cell_type": "code",
   "execution_count": null,
   "metadata": {},
   "outputs": [],
   "source": []
  },
  {
   "cell_type": "markdown",
   "metadata": {},
   "source": [
    "## Problem 2.5\n",
    "Use the centrality measures to predict the number of log(checkins+1). "
   ]
  }
 ],
 "metadata": {
  "kernelspec": {
   "display_name": "Python 3",
   "language": "python",
   "name": "python3"
  },
  "language_info": {
   "codemirror_mode": {
    "name": "ipython",
    "version": 3
   },
   "file_extension": ".py",
   "mimetype": "text/x-python",
   "name": "python",
   "nbconvert_exporter": "python",
   "pygments_lexer": "ipython3",
   "version": "3.9.6"
  }
 },
 "nbformat": 4,
 "nbformat_minor": 2
}
